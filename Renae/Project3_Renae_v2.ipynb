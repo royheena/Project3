{
 "cells": [
  {
   "cell_type": "markdown",
   "metadata": {},
   "source": [
    "Congratulations on taking an interest in improving your results! Based on your current portfolio, your Sharpe Ratio is XXX.  The Sharpe Ratio is the best way to measure your risk-adjusted return.  The higher the Sharpe Ratio, the higher the returns and the sooner you can retire!\n",
    "\n",
    "Based on a theoretical analysis of your portfolio, the most optimal Sharpe Ratio is XXX.  Keep in mind, it may not be possible to obtain this Sharpe Ratio based on the random nature of the market, but there are proven ways to help improve the portfolio's Sharpe Ratio.  Would you like to try to improve your portfolio?  XXX\n",
    "\n",
    "Excellent!  Type \"guide\" for guided assistnace or \"self\" to self. XXX\n",
    "\n",
    "- Are you satisfied with you current mix of stocks or would you like to add or remove stocks? Type \"keep stocks\", \"add Stocks\" or \"remove stocks\" XXX\n",
    "- What stock would you like to add? XXX\n",
    "-- We need to understand how you want this new stock added.  Do you want to add this stock assume the same buy/sell as a current stock or do you want to define a new transation strategy? XXX\n",
    "---- What stock do you want it to mirror? XXX\n",
    "---- What day to you want to make the first purchase? XXX\n",
    "---- What total $ investment to you want to make for the first purchase? XXX\n",
    "- What stock would you like to remove? XXX\n",
    "-- Do you want to replace this stock with another ticker or move entirely? XXX"
   ]
  },
  {
   "cell_type": "markdown",
   "metadata": {},
   "source": [
    "portfolio sharpe ratio\n",
    "max sharpe ratio\n",
    "stock to add\n",
    "\n",
    "for added stock\n",
    "- date of first buy\n",
    "- invested amount of first buy\n",
    "- frequency of new buys\n",
    "- $ of frequecy buys\n",
    "- date of first sell\n",
    "- frequency of new sells\n",
    "\n",
    "stock to remove\n",
    "for removed stock\n",
    "- replace with X ticker"
   ]
  },
  {
   "cell_type": "markdown",
   "metadata": {},
   "source": [
    "input robo\n",
    "portfolio sharpe ratio\n",
    "max sharpe ratio\n",
    "current transaction_df"
   ]
  },
  {
   "cell_type": "markdown",
   "metadata": {},
   "source": [
    "output robo\n",
    "new transaction DF"
   ]
  },
  {
   "cell_type": "code",
   "execution_count": null,
   "metadata": {},
   "outputs": [],
   "source": []
  },
  {
   "cell_type": "code",
   "execution_count": null,
   "metadata": {},
   "outputs": [],
   "source": [
    "ticker = input (\"enter your ticker\")"
   ]
  },
  {
   "cell_type": "code",
   "execution_count": null,
   "metadata": {},
   "outputs": [],
   "source": [
    "print(ticker)"
   ]
  },
  {
   "cell_type": "code",
   "execution_count": null,
   "metadata": {},
   "outputs": [],
   "source": []
  },
  {
   "cell_type": "code",
   "execution_count": null,
   "metadata": {},
   "outputs": [],
   "source": []
  },
  {
   "cell_type": "code",
   "execution_count": null,
   "metadata": {},
   "outputs": [],
   "source": []
  },
  {
   "cell_type": "code",
   "execution_count": null,
   "metadata": {},
   "outputs": [],
   "source": []
  },
  {
   "cell_type": "code",
   "execution_count": 1,
   "metadata": {},
   "outputs": [],
   "source": [
    "import csv\n",
    "from pathlib import Path\n",
    "import pandas as pd\n",
    "from pandas import DataFrame\n",
    "from datetime import datetime\n",
    "from datetime import date\n",
    "import yfinance as yf"
   ]
  },
  {
   "cell_type": "code",
   "execution_count": 2,
   "metadata": {},
   "outputs": [],
   "source": [
    "# Set the path for the CSV file\n",
    "input_file_path = Path(\"TestPortfolio.csv\")"
   ]
  },
  {
   "cell_type": "code",
   "execution_count": 3,
   "metadata": {},
   "outputs": [],
   "source": [
    "#Create empty list to store row data from CSV\n",
    "portfolio_transactions = []"
   ]
  },
  {
   "cell_type": "code",
   "execution_count": 4,
   "metadata": {},
   "outputs": [],
   "source": [
    "#Open the CSV file; read in row data; calculate transaction cost per transacation\n",
    "with open(input_file_path, 'r') as csvfile:\n",
    "    \n",
    "    #Set reader object\n",
    "    csvreader = csv.reader(csvfile, delimiter = ',')\n",
    " \n",
    "    #Read the header\n",
    "    csv_header = next(csvreader)\n",
    "    \n",
    "    #Create new column\n",
    "    csv_header.append(\"Transaction Cost\")\n",
    "    portfolio_transactions.append(csv_header)\n",
    "\n",
    "    #Iterate through the data \n",
    "    for row in csvreader:\n",
    "        \n",
    "        #Calculate transaction cost\n",
    "        cost = float(row[3]) * float(row[4])\n",
    "        \n",
    "        #Append transaction cost to list  \n",
    "        row.append(cost)\n",
    "        portfolio_transactions.append(row)"
   ]
  },
  {
   "cell_type": "code",
   "execution_count": 5,
   "metadata": {},
   "outputs": [
    {
     "data": {
      "text/html": [
       "<div>\n",
       "<style scoped>\n",
       "    .dataframe tbody tr th:only-of-type {\n",
       "        vertical-align: middle;\n",
       "    }\n",
       "\n",
       "    .dataframe tbody tr th {\n",
       "        vertical-align: top;\n",
       "    }\n",
       "\n",
       "    .dataframe thead th {\n",
       "        text-align: right;\n",
       "    }\n",
       "</style>\n",
       "<table border=\"1\" class=\"dataframe\">\n",
       "  <thead>\n",
       "    <tr style=\"text-align: right;\">\n",
       "      <th></th>\n",
       "      <th>Ticker</th>\n",
       "      <th>Transaction</th>\n",
       "      <th>Date</th>\n",
       "      <th>Transaction Price</th>\n",
       "      <th>Number of shares</th>\n",
       "      <th>Transaction Cost</th>\n",
       "    </tr>\n",
       "  </thead>\n",
       "  <tbody>\n",
       "    <tr>\n",
       "      <th>1</th>\n",
       "      <td>AAPL</td>\n",
       "      <td>B</td>\n",
       "      <td>3/5/12</td>\n",
       "      <td>77.8</td>\n",
       "      <td>100</td>\n",
       "      <td>7780</td>\n",
       "    </tr>\n",
       "    <tr>\n",
       "      <th>2</th>\n",
       "      <td>AAPL</td>\n",
       "      <td>B</td>\n",
       "      <td>4/1/13</td>\n",
       "      <td>60.57</td>\n",
       "      <td>100</td>\n",
       "      <td>6057</td>\n",
       "    </tr>\n",
       "    <tr>\n",
       "      <th>3</th>\n",
       "      <td>TSLA</td>\n",
       "      <td>B</td>\n",
       "      <td>9/23/13</td>\n",
       "      <td>189.9</td>\n",
       "      <td>100</td>\n",
       "      <td>18990</td>\n",
       "    </tr>\n",
       "    <tr>\n",
       "      <th>4</th>\n",
       "      <td>TSLA</td>\n",
       "      <td>S</td>\n",
       "      <td>11/18/13</td>\n",
       "      <td>122.38</td>\n",
       "      <td>75</td>\n",
       "      <td>9178.5</td>\n",
       "    </tr>\n",
       "    <tr>\n",
       "      <th>5</th>\n",
       "      <td>TSLA</td>\n",
       "      <td>B</td>\n",
       "      <td>5/9/16</td>\n",
       "      <td>208</td>\n",
       "      <td>30</td>\n",
       "      <td>6240</td>\n",
       "    </tr>\n",
       "    <tr>\n",
       "      <th>6</th>\n",
       "      <td>GOOG</td>\n",
       "      <td>B</td>\n",
       "      <td>8/7/17</td>\n",
       "      <td>915.39</td>\n",
       "      <td>10</td>\n",
       "      <td>9153.9</td>\n",
       "    </tr>\n",
       "    <tr>\n",
       "      <th>7</th>\n",
       "      <td>AAPL</td>\n",
       "      <td>S</td>\n",
       "      <td>3/16/20</td>\n",
       "      <td>240</td>\n",
       "      <td>50</td>\n",
       "      <td>12000</td>\n",
       "    </tr>\n",
       "  </tbody>\n",
       "</table>\n",
       "</div>"
      ],
      "text/plain": [
       "  Ticker Transaction      Date Transaction Price Number of shares  \\\n",
       "1   AAPL           B    3/5/12              77.8              100   \n",
       "2   AAPL           B    4/1/13             60.57              100   \n",
       "3   TSLA           B   9/23/13             189.9              100   \n",
       "4   TSLA           S  11/18/13            122.38               75   \n",
       "5   TSLA           B    5/9/16               208               30   \n",
       "6   GOOG           B    8/7/17            915.39               10   \n",
       "7   AAPL           S   3/16/20               240               50   \n",
       "\n",
       "  Transaction Cost  \n",
       "1             7780  \n",
       "2             6057  \n",
       "3            18990  \n",
       "4           9178.5  \n",
       "5             6240  \n",
       "6           9153.9  \n",
       "7            12000  "
      ]
     },
     "execution_count": 5,
     "metadata": {},
     "output_type": "execute_result"
    }
   ],
   "source": [
    "#Convert transaction list to dataframe\n",
    "portfolio_df = pd.DataFrame(portfolio_transactions, columns=['Ticker', 'Transaction', 'Date', 'Transaction Price', 'Number of shares', 'Transaction Cost'])\n",
    "\n",
    "#Drop first row (duplicate header)\n",
    "portfolio_df=portfolio_df.drop(portfolio_df.index[0])\n",
    "\n",
    "portfolio_df"
   ]
  },
  {
   "cell_type": "code",
   "execution_count": 6,
   "metadata": {},
   "outputs": [
    {
     "data": {
      "text/html": [
       "<div>\n",
       "<style scoped>\n",
       "    .dataframe tbody tr th:only-of-type {\n",
       "        vertical-align: middle;\n",
       "    }\n",
       "\n",
       "    .dataframe tbody tr th {\n",
       "        vertical-align: top;\n",
       "    }\n",
       "\n",
       "    .dataframe thead th {\n",
       "        text-align: right;\n",
       "    }\n",
       "</style>\n",
       "<table border=\"1\" class=\"dataframe\">\n",
       "  <thead>\n",
       "    <tr style=\"text-align: right;\">\n",
       "      <th></th>\n",
       "      <th>Ticker</th>\n",
       "      <th>Transaction</th>\n",
       "      <th>Transaction Price</th>\n",
       "      <th>Number of shares</th>\n",
       "      <th>Transaction Cost</th>\n",
       "    </tr>\n",
       "    <tr>\n",
       "      <th>Date</th>\n",
       "      <th></th>\n",
       "      <th></th>\n",
       "      <th></th>\n",
       "      <th></th>\n",
       "      <th></th>\n",
       "    </tr>\n",
       "  </thead>\n",
       "  <tbody>\n",
       "    <tr>\n",
       "      <th>2012-03-05</th>\n",
       "      <td>AAPL</td>\n",
       "      <td>B</td>\n",
       "      <td>77.8</td>\n",
       "      <td>100</td>\n",
       "      <td>7780</td>\n",
       "    </tr>\n",
       "    <tr>\n",
       "      <th>2013-04-01</th>\n",
       "      <td>AAPL</td>\n",
       "      <td>B</td>\n",
       "      <td>60.57</td>\n",
       "      <td>100</td>\n",
       "      <td>6057</td>\n",
       "    </tr>\n",
       "    <tr>\n",
       "      <th>2013-09-23</th>\n",
       "      <td>TSLA</td>\n",
       "      <td>B</td>\n",
       "      <td>189.9</td>\n",
       "      <td>100</td>\n",
       "      <td>18990</td>\n",
       "    </tr>\n",
       "    <tr>\n",
       "      <th>2013-11-18</th>\n",
       "      <td>TSLA</td>\n",
       "      <td>S</td>\n",
       "      <td>122.38</td>\n",
       "      <td>75</td>\n",
       "      <td>9178.5</td>\n",
       "    </tr>\n",
       "    <tr>\n",
       "      <th>2016-05-09</th>\n",
       "      <td>TSLA</td>\n",
       "      <td>B</td>\n",
       "      <td>208</td>\n",
       "      <td>30</td>\n",
       "      <td>6240</td>\n",
       "    </tr>\n",
       "    <tr>\n",
       "      <th>2017-08-07</th>\n",
       "      <td>GOOG</td>\n",
       "      <td>B</td>\n",
       "      <td>915.39</td>\n",
       "      <td>10</td>\n",
       "      <td>9153.9</td>\n",
       "    </tr>\n",
       "    <tr>\n",
       "      <th>2020-03-16</th>\n",
       "      <td>AAPL</td>\n",
       "      <td>S</td>\n",
       "      <td>240</td>\n",
       "      <td>50</td>\n",
       "      <td>12000</td>\n",
       "    </tr>\n",
       "  </tbody>\n",
       "</table>\n",
       "</div>"
      ],
      "text/plain": [
       "           Ticker Transaction Transaction Price Number of shares  \\\n",
       "Date                                                               \n",
       "2012-03-05   AAPL           B              77.8              100   \n",
       "2013-04-01   AAPL           B             60.57              100   \n",
       "2013-09-23   TSLA           B             189.9              100   \n",
       "2013-11-18   TSLA           S            122.38               75   \n",
       "2016-05-09   TSLA           B               208               30   \n",
       "2017-08-07   GOOG           B            915.39               10   \n",
       "2020-03-16   AAPL           S               240               50   \n",
       "\n",
       "           Transaction Cost  \n",
       "Date                         \n",
       "2012-03-05             7780  \n",
       "2013-04-01             6057  \n",
       "2013-09-23            18990  \n",
       "2013-11-18           9178.5  \n",
       "2016-05-09             6240  \n",
       "2017-08-07           9153.9  \n",
       "2020-03-16            12000  "
      ]
     },
     "execution_count": 6,
     "metadata": {},
     "output_type": "execute_result"
    }
   ],
   "source": [
    "#Convert Date to datetime and set as index\n",
    "portfolio_df['Date']=pd.to_datetime(portfolio_df['Date'])\n",
    "portfolio_df.set_index(['Date'], inplace=True)\n",
    "\n",
    "portfolio_df"
   ]
  },
  {
   "cell_type": "code",
   "execution_count": 7,
   "metadata": {},
   "outputs": [
    {
     "data": {
      "text/html": [
       "<div>\n",
       "<style scoped>\n",
       "    .dataframe tbody tr th:only-of-type {\n",
       "        vertical-align: middle;\n",
       "    }\n",
       "\n",
       "    .dataframe tbody tr th {\n",
       "        vertical-align: top;\n",
       "    }\n",
       "\n",
       "    .dataframe thead th {\n",
       "        text-align: right;\n",
       "    }\n",
       "</style>\n",
       "<table border=\"1\" class=\"dataframe\">\n",
       "  <thead>\n",
       "    <tr style=\"text-align: right;\">\n",
       "      <th></th>\n",
       "      <th>Ticker</th>\n",
       "      <th>Transaction</th>\n",
       "      <th>Transaction Price</th>\n",
       "      <th>Number of shares</th>\n",
       "      <th>Transaction Cost</th>\n",
       "    </tr>\n",
       "    <tr>\n",
       "      <th>Date</th>\n",
       "      <th></th>\n",
       "      <th></th>\n",
       "      <th></th>\n",
       "      <th></th>\n",
       "      <th></th>\n",
       "    </tr>\n",
       "  </thead>\n",
       "  <tbody>\n",
       "    <tr>\n",
       "      <th>2012-03-05</th>\n",
       "      <td>AAPL</td>\n",
       "      <td>B</td>\n",
       "      <td>77.8</td>\n",
       "      <td>100</td>\n",
       "      <td>7780</td>\n",
       "    </tr>\n",
       "    <tr>\n",
       "      <th>2013-04-01</th>\n",
       "      <td>AAPL</td>\n",
       "      <td>B</td>\n",
       "      <td>60.57</td>\n",
       "      <td>100</td>\n",
       "      <td>6057</td>\n",
       "    </tr>\n",
       "    <tr>\n",
       "      <th>2013-09-23</th>\n",
       "      <td>TSLA</td>\n",
       "      <td>B</td>\n",
       "      <td>189.9</td>\n",
       "      <td>100</td>\n",
       "      <td>18990</td>\n",
       "    </tr>\n",
       "    <tr>\n",
       "      <th>2013-11-18</th>\n",
       "      <td>TSLA</td>\n",
       "      <td>S</td>\n",
       "      <td>122.38</td>\n",
       "      <td>75</td>\n",
       "      <td>9178.5</td>\n",
       "    </tr>\n",
       "    <tr>\n",
       "      <th>2016-05-09</th>\n",
       "      <td>TSLA</td>\n",
       "      <td>B</td>\n",
       "      <td>208</td>\n",
       "      <td>30</td>\n",
       "      <td>6240</td>\n",
       "    </tr>\n",
       "    <tr>\n",
       "      <th>2017-08-07</th>\n",
       "      <td>GOOG</td>\n",
       "      <td>B</td>\n",
       "      <td>915.39</td>\n",
       "      <td>10</td>\n",
       "      <td>9153.9</td>\n",
       "    </tr>\n",
       "    <tr>\n",
       "      <th>2020-03-16</th>\n",
       "      <td>AAPL</td>\n",
       "      <td>S</td>\n",
       "      <td>240</td>\n",
       "      <td>50</td>\n",
       "      <td>12000</td>\n",
       "    </tr>\n",
       "  </tbody>\n",
       "</table>\n",
       "</div>"
      ],
      "text/plain": [
       "           Ticker Transaction Transaction Price Number of shares  \\\n",
       "Date                                                               \n",
       "2012-03-05   AAPL           B              77.8              100   \n",
       "2013-04-01   AAPL           B             60.57              100   \n",
       "2013-09-23   TSLA           B             189.9              100   \n",
       "2013-11-18   TSLA           S            122.38               75   \n",
       "2016-05-09   TSLA           B               208               30   \n",
       "2017-08-07   GOOG           B            915.39               10   \n",
       "2020-03-16   AAPL           S               240               50   \n",
       "\n",
       "           Transaction Cost  \n",
       "Date                         \n",
       "2012-03-05             7780  \n",
       "2013-04-01             6057  \n",
       "2013-09-23            18990  \n",
       "2013-11-18           9178.5  \n",
       "2016-05-09             6240  \n",
       "2017-08-07           9153.9  \n",
       "2020-03-16            12000  "
      ]
     },
     "execution_count": 7,
     "metadata": {},
     "output_type": "execute_result"
    }
   ],
   "source": [
    "# Sort dataframe in ascending order\n",
    "portfolio_df.sort_index(inplace=True)\n",
    "\n",
    "portfolio_df"
   ]
  },
  {
   "cell_type": "code",
   "execution_count": null,
   "metadata": {},
   "outputs": [],
   "source": []
  },
  {
   "cell_type": "code",
   "execution_count": 8,
   "metadata": {},
   "outputs": [],
   "source": [
    "# Create empty list for stock tickers\n",
    "stock_list=[]"
   ]
  },
  {
   "cell_type": "code",
   "execution_count": 9,
   "metadata": {},
   "outputs": [
    {
     "data": {
      "text/plain": [
       "['AAPL', 'GOOG', 'TSLA']"
      ]
     },
     "execution_count": 9,
     "metadata": {},
     "output_type": "execute_result"
    }
   ],
   "source": [
    "# Determine unique stocks\n",
    "group=portfolio_df.groupby('Ticker')\n",
    "\n",
    "# Store unique stocks to stock list\n",
    "group.groups.keys()\n",
    "stock_list=list(group.groups)\n",
    "\n",
    "stock_list"
   ]
  },
  {
   "cell_type": "code",
   "execution_count": null,
   "metadata": {},
   "outputs": [],
   "source": []
  },
  {
   "cell_type": "code",
   "execution_count": null,
   "metadata": {},
   "outputs": [],
   "source": []
  },
  {
   "cell_type": "code",
   "execution_count": null,
   "metadata": {},
   "outputs": [],
   "source": []
  },
  {
   "cell_type": "code",
   "execution_count": 10,
   "metadata": {},
   "outputs": [],
   "source": [
    "#inputs into robo function\n",
    "portfolio_sharpe_ratio = 0.5004989069079389\n",
    "best_sharpe_ratio = 0.7199297636662322"
   ]
  },
  {
   "cell_type": "code",
   "execution_count": 11,
   "metadata": {},
   "outputs": [],
   "source": [
    "def get_closing_price (ticker):\n",
    "    stock_info = yf.Ticker(ticker)\n",
    "\n",
    "    # get historical market data\n",
    "    hist = stock_info.history(period=\"max\")\n",
    "    hist2=hist.drop(columns=['Open', 'High', 'Low', 'Volume', 'Dividends', 'Stock Splits'])\n",
    "    return hist2"
   ]
  },
  {
   "cell_type": "code",
   "execution_count": 12,
   "metadata": {},
   "outputs": [
    {
     "name": "stdout",
     "output_type": "stream",
     "text": [
      "Congratulations on taking an interest in improving your results! Based on your current portfolio, your Sharpe Ratio is 0.50.  The Sharpe Ratio is the best way to measure your risk-adjusted return.  The higher the Sharpe Ratio, the higher the returns and the sooner you can retire!\n"
     ]
    }
   ],
   "source": [
    "print(f\"Congratulations on taking an interest in improving your results! Based on your current portfolio, your Sharpe Ratio is {portfolio_sharpe_ratio:.2f}.  The Sharpe Ratio is the best way to measure your risk-adjusted return.  The higher the Sharpe Ratio, the higher the returns and the sooner you can retire!\")\n"
   ]
  },
  {
   "cell_type": "code",
   "execution_count": 13,
   "metadata": {},
   "outputs": [
    {
     "name": "stdout",
     "output_type": "stream",
     "text": [
      "Based on a theoretical analysis of your portfolio, the most optimal Sharpe Ratio is 0.72. Keep in mind, it may not be possible to obtain this Sharpe Ratio based on the random nature of the market, but there are proven ways to help improve the portfolio's Sharpe Ratio.\n"
     ]
    },
    {
     "name": "stdin",
     "output_type": "stream",
     "text": [
      "\n",
      "Would you like to try to improve your portfolio? (Yes or No) Yes\n"
     ]
    }
   ],
   "source": [
    "print(f\"Based on a theoretical analysis of your portfolio, the most optimal Sharpe Ratio is {best_sharpe_ratio:.2f}. Keep in mind, it may not be possible to obtain this Sharpe Ratio based on the random nature of the market, but there are proven ways to help improve the portfolio's Sharpe Ratio.\")\n",
    "ui_improve = input (\"\\nWould you like to try to improve your portfolio? (Yes or No)\")\n"
   ]
  },
  {
   "cell_type": "code",
   "execution_count": 14,
   "metadata": {},
   "outputs": [],
   "source": [
    "# Define empty lists for user inputs\n",
    "add_list = []\n",
    "remove_list = []\n",
    "\n",
    "# Define columns for user input dataframe\n",
    "column_names = ['Date', 'Ticker', 'Transaction', 'Transaction Price', \"Number of shares\", 'Transaction Cost']\n"
   ]
  },
  {
   "cell_type": "code",
   "execution_count": 15,
   "metadata": {},
   "outputs": [
    {
     "name": "stdout",
     "output_type": "stream",
     "text": [
      "Great! Let's get started! I will ask you a series of questions to help modify your portfolio to see if we can improve your performance.\n",
      "\n",
      "There's a few things to keep in mind.\n",
      "\t* Rule 1\n"
     ]
    },
    {
     "name": "stdin",
     "output_type": "stream",
     "text": [
      "\n",
      "Are you satisfied with you current mix of stocks or would you like to add or remove stocks? (keep, add, remove) add\n",
      "\n",
      "How many stocks would you like to add to your portfolio? 1\n"
     ]
    },
    {
     "name": "stdout",
     "output_type": "stream",
     "text": [
      "Great! We'll add the 1 stocks one at a time.\n"
     ]
    },
    {
     "name": "stdin",
     "output_type": "stream",
     "text": [
      "\n",
      "What is the ticker for Stock 1 that you want to add? cron\n",
      "\n",
      "What day do you want to buy CRON? (MM/DD/YYYY) 2/27/2018\n",
      "\n",
      "For the analysis, we'll assume only the inital purchase as the full investment. How much would you like to invest in CRON? $ 10000\n"
     ]
    }
   ],
   "source": [
    "# Enter if user wants to improve portfolio\n",
    "if (ui_improve.lower() == \"yes\" or ui_improve.lower() == \"y\"):\n",
    "    print(\"Great! Let's get started! I will ask you a series of questions to help modify your portfolio to see if we can improve your performance.\")\n",
    "    print(\"\\nThere's a few things to keep in mind.\")\n",
    "    print(\"\\t* Rule 1\")\n",
    "\n",
    "    # Ask if user wants to keep/add/remove stocks\n",
    "    ui_stock_change = input (\"\\nAre you satisfied with you current mix of stocks or would you like to add or remove stocks? (keep, add, remove)\")\n",
    "    \n",
    "    # Enter if user wants to add stocks\n",
    "    if (ui_stock_change.lower() == \"add\"):\n",
    "        ui_stock_add_num = input (\"\\nHow many stocks would you like to add to your portfolio?\")\n",
    "        print(f\"Great! We'll add the {ui_stock_add_num} stocks one at a time.\")\n",
    "        \n",
    "        # Loop to gather ticker, investment $, and purchase date for each ticker\n",
    "        for i in range(int(ui_stock_add_num)):\n",
    "            ui_stock_add_tckr = input (f\"\\nWhat is the ticker for Stock {i+1} that you want to add?\")\n",
    "            stock_add_tckr = ui_stock_add_tckr.upper()\n",
    "          \n",
    "            ui_stock_add_date = input (f\"\\nWhat day do you want to buy {stock_add_tckr}? (MM/DD/YYYY)\")\n",
    "            stock_add_date = datetime.strptime(ui_stock_add_date, '%m/%d/%Y').date()\n",
    "\n",
    "            #Grab closing price data\n",
    "            stock_add_closing_df = get_closing_price(stock_add_tckr)\n",
    "            stock_add_closing_price = stock_add_closing_df.loc[stock_add_date][\"Close\"]            \n",
    "            \n",
    "            ui_stock_add_cost = input (f\"\\nFor the analysis, we'll assume only the inital purchase as the full investment. How much would you like to invest in {stock_add_tckr}? $\")\n",
    "            stock_add_cost = ui_stock_add_cost.replace(',','')\n",
    "            \n",
    "            #Calculate number of shares\n",
    "            stock_add_num_shares = round(int(stock_add_cost) / int(stock_add_closing_price), 0)\n",
    "            \n",
    "            add_list.append([stock_add_date, stock_add_tckr, \"B\", stock_add_closing_price, stock_add_num_shares, stock_add_cost])\n",
    "        user_inputs_df = pd.DataFrame(add_list, columns=column_names)\n",
    "        \n",
    "    # Enter if user wants to remove stocks\n",
    "    elif (ui_stock_change.lower() == \"remove\"):\n",
    "        ui_stock_remove_num = input (\"\\nHow many stocks would you like to remove from your portfolio?\")\n",
    "        \n",
    "        # Loop to gather all tickers to remove from portfolio\n",
    "        for i in range(int(ui_stock_remove_num)):\n",
    "            ui_stock_remove_tckr = input (f\"\\nWhat is the ticker for Stock {i+1} that you want to remove?\")\n",
    "            stock_remove_tckr = ui_stock_remove_tckr.upper()\n",
    "            print(f\"{stock_remove_tckr} will be removed from your portfolio.\")\n",
    "            remove_list.append(stock_remove_tckr)\n",
    "            \n",
    "    # Enter if user does not want to add or remove stocks\n",
    "    else:\n",
    "        print(f\"\\nOkay, we won't change your mix of stocks.  Your stocks will remain: \\n{stock_list}\")\n",
    "\n",
    "# Enter if user does not want to improve portflio.    \n",
    "else:\n",
    "    print(\"If you change your mind, let me know.\")"
   ]
  },
  {
   "cell_type": "code",
   "execution_count": 16,
   "metadata": {},
   "outputs": [
    {
     "data": {
      "text/plain": [
       "[[datetime.date(2018, 2, 27), 'CRON', 'B', 7.62, 1429.0, '10000']]"
      ]
     },
     "execution_count": 16,
     "metadata": {},
     "output_type": "execute_result"
    }
   ],
   "source": [
    "add_list\n"
   ]
  },
  {
   "cell_type": "code",
   "execution_count": 17,
   "metadata": {},
   "outputs": [
    {
     "data": {
      "text/html": [
       "<div>\n",
       "<style scoped>\n",
       "    .dataframe tbody tr th:only-of-type {\n",
       "        vertical-align: middle;\n",
       "    }\n",
       "\n",
       "    .dataframe tbody tr th {\n",
       "        vertical-align: top;\n",
       "    }\n",
       "\n",
       "    .dataframe thead th {\n",
       "        text-align: right;\n",
       "    }\n",
       "</style>\n",
       "<table border=\"1\" class=\"dataframe\">\n",
       "  <thead>\n",
       "    <tr style=\"text-align: right;\">\n",
       "      <th></th>\n",
       "      <th>Date</th>\n",
       "      <th>Ticker</th>\n",
       "      <th>Transaction</th>\n",
       "      <th>Transaction Price</th>\n",
       "      <th>Number of shares</th>\n",
       "      <th>Transaction Cost</th>\n",
       "    </tr>\n",
       "  </thead>\n",
       "  <tbody>\n",
       "    <tr>\n",
       "      <th>0</th>\n",
       "      <td>2018-02-27</td>\n",
       "      <td>CRON</td>\n",
       "      <td>B</td>\n",
       "      <td>7.62</td>\n",
       "      <td>1429.0</td>\n",
       "      <td>10000</td>\n",
       "    </tr>\n",
       "  </tbody>\n",
       "</table>\n",
       "</div>"
      ],
      "text/plain": [
       "         Date Ticker Transaction  Transaction Price  Number of shares  \\\n",
       "0  2018-02-27   CRON           B               7.62            1429.0   \n",
       "\n",
       "  Transaction Cost  \n",
       "0            10000  "
      ]
     },
     "execution_count": 17,
     "metadata": {},
     "output_type": "execute_result"
    }
   ],
   "source": [
    "user_inputs_df"
   ]
  },
  {
   "cell_type": "code",
   "execution_count": 18,
   "metadata": {},
   "outputs": [
    {
     "data": {
      "text/plain": [
       "[]"
      ]
     },
     "execution_count": 18,
     "metadata": {},
     "output_type": "execute_result"
    }
   ],
   "source": [
    "remove_list"
   ]
  },
  {
   "cell_type": "code",
   "execution_count": null,
   "metadata": {},
   "outputs": [],
   "source": []
  },
  {
   "cell_type": "code",
   "execution_count": 19,
   "metadata": {},
   "outputs": [
    {
     "data": {
      "text/html": [
       "<div>\n",
       "<style scoped>\n",
       "    .dataframe tbody tr th:only-of-type {\n",
       "        vertical-align: middle;\n",
       "    }\n",
       "\n",
       "    .dataframe tbody tr th {\n",
       "        vertical-align: top;\n",
       "    }\n",
       "\n",
       "    .dataframe thead th {\n",
       "        text-align: right;\n",
       "    }\n",
       "</style>\n",
       "<table border=\"1\" class=\"dataframe\">\n",
       "  <thead>\n",
       "    <tr style=\"text-align: right;\">\n",
       "      <th></th>\n",
       "      <th>Date</th>\n",
       "      <th>Ticker</th>\n",
       "      <th>Transaction</th>\n",
       "      <th>Transaction Price</th>\n",
       "      <th>Number of shares</th>\n",
       "      <th>Transaction Cost</th>\n",
       "    </tr>\n",
       "  </thead>\n",
       "  <tbody>\n",
       "    <tr>\n",
       "      <th>0</th>\n",
       "      <td>2018-02-27</td>\n",
       "      <td>CRON</td>\n",
       "      <td>B</td>\n",
       "      <td>7.62</td>\n",
       "      <td>1429.0</td>\n",
       "      <td>10000</td>\n",
       "    </tr>\n",
       "  </tbody>\n",
       "</table>\n",
       "</div>"
      ],
      "text/plain": [
       "         Date Ticker Transaction  Transaction Price  Number of shares  \\\n",
       "0  2018-02-27   CRON           B               7.62            1429.0   \n",
       "\n",
       "  Transaction Cost  \n",
       "0            10000  "
      ]
     },
     "execution_count": 19,
     "metadata": {},
     "output_type": "execute_result"
    }
   ],
   "source": [
    "test_df = user_inputs_df\n",
    "test_df"
   ]
  },
  {
   "cell_type": "code",
   "execution_count": 20,
   "metadata": {},
   "outputs": [
    {
     "data": {
      "text/html": [
       "<div>\n",
       "<style scoped>\n",
       "    .dataframe tbody tr th:only-of-type {\n",
       "        vertical-align: middle;\n",
       "    }\n",
       "\n",
       "    .dataframe tbody tr th {\n",
       "        vertical-align: top;\n",
       "    }\n",
       "\n",
       "    .dataframe thead th {\n",
       "        text-align: right;\n",
       "    }\n",
       "</style>\n",
       "<table border=\"1\" class=\"dataframe\">\n",
       "  <thead>\n",
       "    <tr style=\"text-align: right;\">\n",
       "      <th></th>\n",
       "      <th>Ticker</th>\n",
       "      <th>Transaction</th>\n",
       "      <th>Transaction Price</th>\n",
       "      <th>Number of shares</th>\n",
       "      <th>Transaction Cost</th>\n",
       "    </tr>\n",
       "    <tr>\n",
       "      <th>Date</th>\n",
       "      <th></th>\n",
       "      <th></th>\n",
       "      <th></th>\n",
       "      <th></th>\n",
       "      <th></th>\n",
       "    </tr>\n",
       "  </thead>\n",
       "  <tbody>\n",
       "    <tr>\n",
       "      <th>2018-02-27</th>\n",
       "      <td>CRON</td>\n",
       "      <td>B</td>\n",
       "      <td>7.62</td>\n",
       "      <td>1429.0</td>\n",
       "      <td>10000</td>\n",
       "    </tr>\n",
       "  </tbody>\n",
       "</table>\n",
       "</div>"
      ],
      "text/plain": [
       "           Ticker Transaction  Transaction Price  Number of shares  \\\n",
       "Date                                                                 \n",
       "2018-02-27   CRON           B               7.62            1429.0   \n",
       "\n",
       "           Transaction Cost  \n",
       "Date                         \n",
       "2018-02-27            10000  "
      ]
     },
     "execution_count": 20,
     "metadata": {},
     "output_type": "execute_result"
    }
   ],
   "source": [
    "#Convert Date to datetime and set as index\n",
    "test_df['Date']=pd.to_datetime(test_df['Date'])\n",
    "test_df.set_index(['Date'], inplace=True)\n",
    "\n",
    "test_df"
   ]
  },
  {
   "cell_type": "code",
   "execution_count": 21,
   "metadata": {},
   "outputs": [
    {
     "data": {
      "text/html": [
       "<div>\n",
       "<style scoped>\n",
       "    .dataframe tbody tr th:only-of-type {\n",
       "        vertical-align: middle;\n",
       "    }\n",
       "\n",
       "    .dataframe tbody tr th {\n",
       "        vertical-align: top;\n",
       "    }\n",
       "\n",
       "    .dataframe thead th {\n",
       "        text-align: right;\n",
       "    }\n",
       "</style>\n",
       "<table border=\"1\" class=\"dataframe\">\n",
       "  <thead>\n",
       "    <tr style=\"text-align: right;\">\n",
       "      <th></th>\n",
       "      <th>Ticker</th>\n",
       "      <th>Transaction</th>\n",
       "      <th>Transaction Price</th>\n",
       "      <th>Number of shares</th>\n",
       "      <th>Transaction Cost</th>\n",
       "    </tr>\n",
       "    <tr>\n",
       "      <th>Date</th>\n",
       "      <th></th>\n",
       "      <th></th>\n",
       "      <th></th>\n",
       "      <th></th>\n",
       "      <th></th>\n",
       "    </tr>\n",
       "  </thead>\n",
       "  <tbody>\n",
       "    <tr>\n",
       "      <th>2012-03-05</th>\n",
       "      <td>AAPL</td>\n",
       "      <td>B</td>\n",
       "      <td>77.8</td>\n",
       "      <td>100</td>\n",
       "      <td>7780</td>\n",
       "    </tr>\n",
       "    <tr>\n",
       "      <th>2013-04-01</th>\n",
       "      <td>AAPL</td>\n",
       "      <td>B</td>\n",
       "      <td>60.57</td>\n",
       "      <td>100</td>\n",
       "      <td>6057</td>\n",
       "    </tr>\n",
       "    <tr>\n",
       "      <th>2013-09-23</th>\n",
       "      <td>TSLA</td>\n",
       "      <td>B</td>\n",
       "      <td>189.9</td>\n",
       "      <td>100</td>\n",
       "      <td>18990</td>\n",
       "    </tr>\n",
       "    <tr>\n",
       "      <th>2013-11-18</th>\n",
       "      <td>TSLA</td>\n",
       "      <td>S</td>\n",
       "      <td>122.38</td>\n",
       "      <td>75</td>\n",
       "      <td>9178.5</td>\n",
       "    </tr>\n",
       "    <tr>\n",
       "      <th>2016-05-09</th>\n",
       "      <td>TSLA</td>\n",
       "      <td>B</td>\n",
       "      <td>208</td>\n",
       "      <td>30</td>\n",
       "      <td>6240</td>\n",
       "    </tr>\n",
       "    <tr>\n",
       "      <th>2017-08-07</th>\n",
       "      <td>GOOG</td>\n",
       "      <td>B</td>\n",
       "      <td>915.39</td>\n",
       "      <td>10</td>\n",
       "      <td>9153.9</td>\n",
       "    </tr>\n",
       "    <tr>\n",
       "      <th>2020-03-16</th>\n",
       "      <td>AAPL</td>\n",
       "      <td>S</td>\n",
       "      <td>240</td>\n",
       "      <td>50</td>\n",
       "      <td>12000</td>\n",
       "    </tr>\n",
       "    <tr>\n",
       "      <th>2018-02-27</th>\n",
       "      <td>CRON</td>\n",
       "      <td>B</td>\n",
       "      <td>7.62</td>\n",
       "      <td>1429</td>\n",
       "      <td>10000</td>\n",
       "    </tr>\n",
       "  </tbody>\n",
       "</table>\n",
       "</div>"
      ],
      "text/plain": [
       "           Ticker Transaction Transaction Price Number of shares  \\\n",
       "Date                                                               \n",
       "2012-03-05   AAPL           B              77.8              100   \n",
       "2013-04-01   AAPL           B             60.57              100   \n",
       "2013-09-23   TSLA           B             189.9              100   \n",
       "2013-11-18   TSLA           S            122.38               75   \n",
       "2016-05-09   TSLA           B               208               30   \n",
       "2017-08-07   GOOG           B            915.39               10   \n",
       "2020-03-16   AAPL           S               240               50   \n",
       "2018-02-27   CRON           B              7.62             1429   \n",
       "\n",
       "           Transaction Cost  \n",
       "Date                         \n",
       "2012-03-05             7780  \n",
       "2013-04-01             6057  \n",
       "2013-09-23            18990  \n",
       "2013-11-18           9178.5  \n",
       "2016-05-09             6240  \n",
       "2017-08-07           9153.9  \n",
       "2020-03-16            12000  \n",
       "2018-02-27            10000  "
      ]
     },
     "execution_count": 21,
     "metadata": {},
     "output_type": "execute_result"
    }
   ],
   "source": [
    "new_trans_df = pd.concat([portfolio_df, test_df])\n",
    "new_trans_df"
   ]
  },
  {
   "cell_type": "code",
   "execution_count": null,
   "metadata": {},
   "outputs": [],
   "source": []
  },
  {
   "cell_type": "code",
   "execution_count": null,
   "metadata": {},
   "outputs": [],
   "source": [
    "test = get_closing_price(\"CRON\")\n",
    "# test = test.reset_index()\n",
    "test.head()"
   ]
  },
  {
   "cell_type": "code",
   "execution_count": null,
   "metadata": {},
   "outputs": [],
   "source": [
    "ui_stock_add_date"
   ]
  },
  {
   "cell_type": "code",
   "execution_count": null,
   "metadata": {},
   "outputs": [],
   "source": [
    "test_date"
   ]
  },
  {
   "cell_type": "code",
   "execution_count": null,
   "metadata": {},
   "outputs": [],
   "source": [
    "rows = test.loc[test_date][\"Close\"]\n",
    "rows"
   ]
  },
  {
   "cell_type": "code",
   "execution_count": null,
   "metadata": {},
   "outputs": [],
   "source": [
    "type(test_date)"
   ]
  },
  {
   "cell_type": "code",
   "execution_count": null,
   "metadata": {},
   "outputs": [],
   "source": [
    "test_date2=test_date.time()"
   ]
  },
  {
   "cell_type": "code",
   "execution_count": null,
   "metadata": {},
   "outputs": [],
   "source": [
    "type(test_date)"
   ]
  },
  {
   "cell_type": "code",
   "execution_count": null,
   "metadata": {},
   "outputs": [],
   "source": [
    "type(test.Date[0])"
   ]
  },
  {
   "cell_type": "code",
   "execution_count": null,
   "metadata": {},
   "outputs": [],
   "source": [
    "test[[\"Date\"==test_date2]]"
   ]
  },
  {
   "cell_type": "code",
   "execution_count": null,
   "metadata": {},
   "outputs": [],
   "source": [
    "test.get_value(test_date, \"Close\")"
   ]
  },
  {
   "cell_type": "code",
   "execution_count": null,
   "metadata": {},
   "outputs": [],
   "source": [
    "if test_date2 in test['Date'].values:\n",
    "    print (\"date exist\")\n",
    "else:\n",
    "    print(\"does not exist\")"
   ]
  },
  {
   "cell_type": "code",
   "execution_count": null,
   "metadata": {},
   "outputs": [],
   "source": []
  },
  {
   "cell_type": "code",
   "execution_count": null,
   "metadata": {},
   "outputs": [],
   "source": []
  },
  {
   "cell_type": "code",
   "execution_count": null,
   "metadata": {},
   "outputs": [],
   "source": []
  },
  {
   "cell_type": "code",
   "execution_count": null,
   "metadata": {},
   "outputs": [],
   "source": [
    "type(int(stock_num_add))"
   ]
  },
  {
   "cell_type": "code",
   "execution_count": null,
   "metadata": {},
   "outputs": [],
   "source": [
    "stock_add_date=\"09/17/2020\"\n",
    "stock_add_date"
   ]
  },
  {
   "cell_type": "code",
   "execution_count": null,
   "metadata": {},
   "outputs": [],
   "source": [
    "stock_add_dt = datetime.strptime(stock_add_date, '%m/%d/%Y').date()\n",
    "stock_add_dt"
   ]
  },
  {
   "cell_type": "code",
   "execution_count": null,
   "metadata": {},
   "outputs": [],
   "source": [
    "type(stock_add_dt)"
   ]
  },
  {
   "cell_type": "code",
   "execution_count": null,
   "metadata": {},
   "outputs": [],
   "source": [
    "stock_add_dt"
   ]
  },
  {
   "cell_type": "code",
   "execution_count": null,
   "metadata": {},
   "outputs": [],
   "source": [
    "portfolio_df.Date[1]"
   ]
  },
  {
   "cell_type": "code",
   "execution_count": null,
   "metadata": {},
   "outputs": [],
   "source": []
  }
 ],
 "metadata": {
  "kernelspec": {
   "display_name": "Python 3",
   "language": "python",
   "name": "python3"
  },
  "language_info": {
   "codemirror_mode": {
    "name": "ipython",
    "version": 3
   },
   "file_extension": ".py",
   "mimetype": "text/x-python",
   "name": "python",
   "nbconvert_exporter": "python",
   "pygments_lexer": "ipython3",
   "version": "3.7.6"
  }
 },
 "nbformat": 4,
 "nbformat_minor": 4
}
