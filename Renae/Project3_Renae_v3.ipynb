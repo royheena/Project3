{
 "cells": [
  {
   "cell_type": "markdown",
   "metadata": {},
   "source": [
    "# Robo Concept/Planning"
   ]
  },
  {
   "cell_type": "markdown",
   "metadata": {},
   "source": [
    "Congratulations on taking an interest in improving your results! Based on your current portfolio, your Sharpe Ratio is XXX.  The Sharpe Ratio is the best way to measure your risk-adjusted return.  The higher the Sharpe Ratio, the higher the returns and the sooner you can retire!\n",
    "\n",
    "Based on a theoretical analysis of your portfolio, the most optimal Sharpe Ratio is XXX.  Keep in mind, it may not be possible to obtain this Sharpe Ratio based on the random nature of the market, but there are proven ways to help improve the portfolio's Sharpe Ratio.  Would you like to try to improve your portfolio?  XXX\n",
    "\n",
    "Excellent!  Type \"guide\" for guided assistnace or \"self\" to self. XXX\n",
    "\n",
    "- Are you satisfied with you current mix of stocks or would you like to add or remove stocks? Type \"keep stocks\", \"add Stocks\" or \"remove stocks\" XXX\n",
    "- What stock would you like to add? XXX\n",
    "-- We need to understand how you want this new stock added.  Do you want to add this stock assume the same buy/sell as a current stock or do you want to define a new transation strategy? XXX\n",
    "---- What stock do you want it to mirror? XXX\n",
    "---- What day to you want to make the first purchase? XXX\n",
    "---- What total $ investment to you want to make for the first purchase? XXX\n",
    "- What stock would you like to remove? XXX\n",
    "-- Do you want to replace this stock with another ticker or move entirely? XXX"
   ]
  },
  {
   "cell_type": "markdown",
   "metadata": {},
   "source": [
    "portfolio sharpe ratio\n",
    "max sharpe ratio\n",
    "stock to add\n",
    "\n",
    "for added stock\n",
    "- date of first buy\n",
    "- invested amount of first buy\n",
    "- frequency of new buys\n",
    "- $ of frequecy buys\n",
    "- date of first sell\n",
    "- frequency of new sells\n",
    "\n",
    "stock to remove\n",
    "for removed stock\n",
    "- replace with X ticker"
   ]
  },
  {
   "cell_type": "markdown",
   "metadata": {},
   "source": [
    "input robo\n",
    "portfolio sharpe ratio\n",
    "max sharpe ratio\n",
    "current transaction_df"
   ]
  },
  {
   "cell_type": "markdown",
   "metadata": {},
   "source": [
    "output robo\n",
    "new transaction DF"
   ]
  },
  {
   "cell_type": "code",
   "execution_count": null,
   "metadata": {},
   "outputs": [],
   "source": []
  },
  {
   "cell_type": "markdown",
   "metadata": {},
   "source": [
    "# Test Data to Test Robo Code"
   ]
  },
  {
   "cell_type": "code",
   "execution_count": 1,
   "metadata": {},
   "outputs": [],
   "source": [
    "import csv\n",
    "from pathlib import Path\n",
    "import pandas as pd\n",
    "from pandas import DataFrame\n",
    "from datetime import datetime\n",
    "from datetime import date\n",
    "import yfinance as yf"
   ]
  },
  {
   "cell_type": "code",
   "execution_count": 2,
   "metadata": {},
   "outputs": [],
   "source": [
    "# Set the path for the CSV file\n",
    "input_file_path = Path(\"TestPortfolio.csv\")"
   ]
  },
  {
   "cell_type": "code",
   "execution_count": 3,
   "metadata": {},
   "outputs": [],
   "source": [
    "#Create empty list to store row data from CSV\n",
    "portfolio_transactions = []"
   ]
  },
  {
   "cell_type": "code",
   "execution_count": 4,
   "metadata": {},
   "outputs": [],
   "source": [
    "#Open the CSV file; read in row data; calculate transaction cost per transacation\n",
    "with open(input_file_path, 'r') as csvfile:\n",
    "    \n",
    "    #Set reader object\n",
    "    csvreader = csv.reader(csvfile, delimiter = ',')\n",
    " \n",
    "    #Read the header\n",
    "    csv_header = next(csvreader)\n",
    "    \n",
    "    #Create new column\n",
    "    csv_header.append(\"Transaction Cost\")\n",
    "    portfolio_transactions.append(csv_header)\n",
    "\n",
    "    #Iterate through the data \n",
    "    for row in csvreader:\n",
    "        \n",
    "        #Calculate transaction cost\n",
    "        cost = float(row[3]) * float(row[4])\n",
    "        \n",
    "        #Append transaction cost to list  \n",
    "        row.append(cost)\n",
    "        portfolio_transactions.append(row)"
   ]
  },
  {
   "cell_type": "code",
   "execution_count": 5,
   "metadata": {},
   "outputs": [
    {
     "data": {
      "text/html": [
       "<div>\n",
       "<style scoped>\n",
       "    .dataframe tbody tr th:only-of-type {\n",
       "        vertical-align: middle;\n",
       "    }\n",
       "\n",
       "    .dataframe tbody tr th {\n",
       "        vertical-align: top;\n",
       "    }\n",
       "\n",
       "    .dataframe thead th {\n",
       "        text-align: right;\n",
       "    }\n",
       "</style>\n",
       "<table border=\"1\" class=\"dataframe\">\n",
       "  <thead>\n",
       "    <tr style=\"text-align: right;\">\n",
       "      <th></th>\n",
       "      <th>Ticker</th>\n",
       "      <th>Transaction</th>\n",
       "      <th>Date</th>\n",
       "      <th>Transaction Price</th>\n",
       "      <th>Number of shares</th>\n",
       "      <th>Transaction Cost</th>\n",
       "    </tr>\n",
       "  </thead>\n",
       "  <tbody>\n",
       "    <tr>\n",
       "      <th>1</th>\n",
       "      <td>AAPL</td>\n",
       "      <td>B</td>\n",
       "      <td>3/5/12</td>\n",
       "      <td>77.8</td>\n",
       "      <td>100</td>\n",
       "      <td>7780</td>\n",
       "    </tr>\n",
       "    <tr>\n",
       "      <th>2</th>\n",
       "      <td>AAPL</td>\n",
       "      <td>B</td>\n",
       "      <td>4/1/13</td>\n",
       "      <td>60.57</td>\n",
       "      <td>100</td>\n",
       "      <td>6057</td>\n",
       "    </tr>\n",
       "    <tr>\n",
       "      <th>3</th>\n",
       "      <td>TSLA</td>\n",
       "      <td>B</td>\n",
       "      <td>9/23/13</td>\n",
       "      <td>189.9</td>\n",
       "      <td>100</td>\n",
       "      <td>18990</td>\n",
       "    </tr>\n",
       "    <tr>\n",
       "      <th>4</th>\n",
       "      <td>TSLA</td>\n",
       "      <td>S</td>\n",
       "      <td>11/18/13</td>\n",
       "      <td>122.38</td>\n",
       "      <td>75</td>\n",
       "      <td>9178.5</td>\n",
       "    </tr>\n",
       "    <tr>\n",
       "      <th>5</th>\n",
       "      <td>TSLA</td>\n",
       "      <td>B</td>\n",
       "      <td>5/9/16</td>\n",
       "      <td>208</td>\n",
       "      <td>30</td>\n",
       "      <td>6240</td>\n",
       "    </tr>\n",
       "    <tr>\n",
       "      <th>6</th>\n",
       "      <td>GOOG</td>\n",
       "      <td>B</td>\n",
       "      <td>8/7/17</td>\n",
       "      <td>915.39</td>\n",
       "      <td>10</td>\n",
       "      <td>9153.9</td>\n",
       "    </tr>\n",
       "    <tr>\n",
       "      <th>7</th>\n",
       "      <td>AAPL</td>\n",
       "      <td>S</td>\n",
       "      <td>3/16/20</td>\n",
       "      <td>240</td>\n",
       "      <td>50</td>\n",
       "      <td>12000</td>\n",
       "    </tr>\n",
       "  </tbody>\n",
       "</table>\n",
       "</div>"
      ],
      "text/plain": [
       "  Ticker Transaction      Date Transaction Price Number of shares  \\\n",
       "1   AAPL           B    3/5/12              77.8              100   \n",
       "2   AAPL           B    4/1/13             60.57              100   \n",
       "3   TSLA           B   9/23/13             189.9              100   \n",
       "4   TSLA           S  11/18/13            122.38               75   \n",
       "5   TSLA           B    5/9/16               208               30   \n",
       "6   GOOG           B    8/7/17            915.39               10   \n",
       "7   AAPL           S   3/16/20               240               50   \n",
       "\n",
       "  Transaction Cost  \n",
       "1             7780  \n",
       "2             6057  \n",
       "3            18990  \n",
       "4           9178.5  \n",
       "5             6240  \n",
       "6           9153.9  \n",
       "7            12000  "
      ]
     },
     "execution_count": 5,
     "metadata": {},
     "output_type": "execute_result"
    }
   ],
   "source": [
    "#Convert transaction list to dataframe\n",
    "portfolio_df = pd.DataFrame(portfolio_transactions, columns=['Ticker', 'Transaction', 'Date', 'Transaction Price', 'Number of shares', 'Transaction Cost'])\n",
    "\n",
    "#Drop first row (duplicate header)\n",
    "portfolio_df=portfolio_df.drop(portfolio_df.index[0])\n",
    "\n",
    "portfolio_df"
   ]
  },
  {
   "cell_type": "code",
   "execution_count": 6,
   "metadata": {},
   "outputs": [
    {
     "data": {
      "text/html": [
       "<div>\n",
       "<style scoped>\n",
       "    .dataframe tbody tr th:only-of-type {\n",
       "        vertical-align: middle;\n",
       "    }\n",
       "\n",
       "    .dataframe tbody tr th {\n",
       "        vertical-align: top;\n",
       "    }\n",
       "\n",
       "    .dataframe thead th {\n",
       "        text-align: right;\n",
       "    }\n",
       "</style>\n",
       "<table border=\"1\" class=\"dataframe\">\n",
       "  <thead>\n",
       "    <tr style=\"text-align: right;\">\n",
       "      <th></th>\n",
       "      <th>Ticker</th>\n",
       "      <th>Transaction</th>\n",
       "      <th>Transaction Price</th>\n",
       "      <th>Number of shares</th>\n",
       "      <th>Transaction Cost</th>\n",
       "    </tr>\n",
       "    <tr>\n",
       "      <th>Date</th>\n",
       "      <th></th>\n",
       "      <th></th>\n",
       "      <th></th>\n",
       "      <th></th>\n",
       "      <th></th>\n",
       "    </tr>\n",
       "  </thead>\n",
       "  <tbody>\n",
       "    <tr>\n",
       "      <th>2012-03-05</th>\n",
       "      <td>AAPL</td>\n",
       "      <td>B</td>\n",
       "      <td>77.8</td>\n",
       "      <td>100</td>\n",
       "      <td>7780</td>\n",
       "    </tr>\n",
       "    <tr>\n",
       "      <th>2013-04-01</th>\n",
       "      <td>AAPL</td>\n",
       "      <td>B</td>\n",
       "      <td>60.57</td>\n",
       "      <td>100</td>\n",
       "      <td>6057</td>\n",
       "    </tr>\n",
       "    <tr>\n",
       "      <th>2013-09-23</th>\n",
       "      <td>TSLA</td>\n",
       "      <td>B</td>\n",
       "      <td>189.9</td>\n",
       "      <td>100</td>\n",
       "      <td>18990</td>\n",
       "    </tr>\n",
       "    <tr>\n",
       "      <th>2013-11-18</th>\n",
       "      <td>TSLA</td>\n",
       "      <td>S</td>\n",
       "      <td>122.38</td>\n",
       "      <td>75</td>\n",
       "      <td>9178.5</td>\n",
       "    </tr>\n",
       "    <tr>\n",
       "      <th>2016-05-09</th>\n",
       "      <td>TSLA</td>\n",
       "      <td>B</td>\n",
       "      <td>208</td>\n",
       "      <td>30</td>\n",
       "      <td>6240</td>\n",
       "    </tr>\n",
       "    <tr>\n",
       "      <th>2017-08-07</th>\n",
       "      <td>GOOG</td>\n",
       "      <td>B</td>\n",
       "      <td>915.39</td>\n",
       "      <td>10</td>\n",
       "      <td>9153.9</td>\n",
       "    </tr>\n",
       "    <tr>\n",
       "      <th>2020-03-16</th>\n",
       "      <td>AAPL</td>\n",
       "      <td>S</td>\n",
       "      <td>240</td>\n",
       "      <td>50</td>\n",
       "      <td>12000</td>\n",
       "    </tr>\n",
       "  </tbody>\n",
       "</table>\n",
       "</div>"
      ],
      "text/plain": [
       "           Ticker Transaction Transaction Price Number of shares  \\\n",
       "Date                                                               \n",
       "2012-03-05   AAPL           B              77.8              100   \n",
       "2013-04-01   AAPL           B             60.57              100   \n",
       "2013-09-23   TSLA           B             189.9              100   \n",
       "2013-11-18   TSLA           S            122.38               75   \n",
       "2016-05-09   TSLA           B               208               30   \n",
       "2017-08-07   GOOG           B            915.39               10   \n",
       "2020-03-16   AAPL           S               240               50   \n",
       "\n",
       "           Transaction Cost  \n",
       "Date                         \n",
       "2012-03-05             7780  \n",
       "2013-04-01             6057  \n",
       "2013-09-23            18990  \n",
       "2013-11-18           9178.5  \n",
       "2016-05-09             6240  \n",
       "2017-08-07           9153.9  \n",
       "2020-03-16            12000  "
      ]
     },
     "execution_count": 6,
     "metadata": {},
     "output_type": "execute_result"
    }
   ],
   "source": [
    "#Convert Date to datetime and set as index\n",
    "portfolio_df['Date']=pd.to_datetime(portfolio_df['Date'])\n",
    "portfolio_df.set_index(['Date'], inplace=True)\n",
    "\n",
    "portfolio_df"
   ]
  },
  {
   "cell_type": "code",
   "execution_count": 7,
   "metadata": {},
   "outputs": [
    {
     "data": {
      "text/html": [
       "<div>\n",
       "<style scoped>\n",
       "    .dataframe tbody tr th:only-of-type {\n",
       "        vertical-align: middle;\n",
       "    }\n",
       "\n",
       "    .dataframe tbody tr th {\n",
       "        vertical-align: top;\n",
       "    }\n",
       "\n",
       "    .dataframe thead th {\n",
       "        text-align: right;\n",
       "    }\n",
       "</style>\n",
       "<table border=\"1\" class=\"dataframe\">\n",
       "  <thead>\n",
       "    <tr style=\"text-align: right;\">\n",
       "      <th></th>\n",
       "      <th>Ticker</th>\n",
       "      <th>Transaction</th>\n",
       "      <th>Transaction Price</th>\n",
       "      <th>Number of shares</th>\n",
       "      <th>Transaction Cost</th>\n",
       "    </tr>\n",
       "    <tr>\n",
       "      <th>Date</th>\n",
       "      <th></th>\n",
       "      <th></th>\n",
       "      <th></th>\n",
       "      <th></th>\n",
       "      <th></th>\n",
       "    </tr>\n",
       "  </thead>\n",
       "  <tbody>\n",
       "    <tr>\n",
       "      <th>2012-03-05</th>\n",
       "      <td>AAPL</td>\n",
       "      <td>B</td>\n",
       "      <td>77.8</td>\n",
       "      <td>100</td>\n",
       "      <td>7780</td>\n",
       "    </tr>\n",
       "    <tr>\n",
       "      <th>2013-04-01</th>\n",
       "      <td>AAPL</td>\n",
       "      <td>B</td>\n",
       "      <td>60.57</td>\n",
       "      <td>100</td>\n",
       "      <td>6057</td>\n",
       "    </tr>\n",
       "    <tr>\n",
       "      <th>2013-09-23</th>\n",
       "      <td>TSLA</td>\n",
       "      <td>B</td>\n",
       "      <td>189.9</td>\n",
       "      <td>100</td>\n",
       "      <td>18990</td>\n",
       "    </tr>\n",
       "    <tr>\n",
       "      <th>2013-11-18</th>\n",
       "      <td>TSLA</td>\n",
       "      <td>S</td>\n",
       "      <td>122.38</td>\n",
       "      <td>75</td>\n",
       "      <td>9178.5</td>\n",
       "    </tr>\n",
       "    <tr>\n",
       "      <th>2016-05-09</th>\n",
       "      <td>TSLA</td>\n",
       "      <td>B</td>\n",
       "      <td>208</td>\n",
       "      <td>30</td>\n",
       "      <td>6240</td>\n",
       "    </tr>\n",
       "    <tr>\n",
       "      <th>2017-08-07</th>\n",
       "      <td>GOOG</td>\n",
       "      <td>B</td>\n",
       "      <td>915.39</td>\n",
       "      <td>10</td>\n",
       "      <td>9153.9</td>\n",
       "    </tr>\n",
       "    <tr>\n",
       "      <th>2020-03-16</th>\n",
       "      <td>AAPL</td>\n",
       "      <td>S</td>\n",
       "      <td>240</td>\n",
       "      <td>50</td>\n",
       "      <td>12000</td>\n",
       "    </tr>\n",
       "  </tbody>\n",
       "</table>\n",
       "</div>"
      ],
      "text/plain": [
       "           Ticker Transaction Transaction Price Number of shares  \\\n",
       "Date                                                               \n",
       "2012-03-05   AAPL           B              77.8              100   \n",
       "2013-04-01   AAPL           B             60.57              100   \n",
       "2013-09-23   TSLA           B             189.9              100   \n",
       "2013-11-18   TSLA           S            122.38               75   \n",
       "2016-05-09   TSLA           B               208               30   \n",
       "2017-08-07   GOOG           B            915.39               10   \n",
       "2020-03-16   AAPL           S               240               50   \n",
       "\n",
       "           Transaction Cost  \n",
       "Date                         \n",
       "2012-03-05             7780  \n",
       "2013-04-01             6057  \n",
       "2013-09-23            18990  \n",
       "2013-11-18           9178.5  \n",
       "2016-05-09             6240  \n",
       "2017-08-07           9153.9  \n",
       "2020-03-16            12000  "
      ]
     },
     "execution_count": 7,
     "metadata": {},
     "output_type": "execute_result"
    }
   ],
   "source": [
    "# Sort dataframe in ascending order\n",
    "portfolio_df.sort_index(inplace=True)\n",
    "\n",
    "portfolio_df"
   ]
  },
  {
   "cell_type": "code",
   "execution_count": null,
   "metadata": {},
   "outputs": [],
   "source": []
  },
  {
   "cell_type": "code",
   "execution_count": null,
   "metadata": {},
   "outputs": [],
   "source": []
  },
  {
   "cell_type": "code",
   "execution_count": null,
   "metadata": {},
   "outputs": [],
   "source": []
  },
  {
   "cell_type": "code",
   "execution_count": 8,
   "metadata": {},
   "outputs": [],
   "source": [
    "#inputs into robo function\n",
    "portfolio_sharpe_ratio = 0.5004989069079389\n",
    "best_sharpe_ratio = 0.7199297636662322"
   ]
  },
  {
   "cell_type": "markdown",
   "metadata": {},
   "source": [
    "# Robo Code"
   ]
  },
  {
   "cell_type": "code",
   "execution_count": 9,
   "metadata": {},
   "outputs": [],
   "source": [
    "def get_closing_price (ticker):\n",
    "    stock_info = yf.Ticker(ticker)\n",
    "\n",
    "    # get historical market data\n",
    "    hist = stock_info.history(period=\"max\")\n",
    "    hist2=hist.drop(columns=['Open', 'High', 'Low', 'Volume', 'Dividends', 'Stock Splits'])\n",
    "    return hist2"
   ]
  },
  {
   "cell_type": "code",
   "execution_count": 10,
   "metadata": {},
   "outputs": [
    {
     "name": "stdout",
     "output_type": "stream",
     "text": [
      "Congratulations on taking an interest in improving your results! Based on your current portfolio, your Sharpe Ratio is 0.50.  The Sharpe Ratio is the best way to measure your risk-adjusted return.  The higher the Sharpe Ratio, the higher the returns and the sooner you can retire!\n"
     ]
    }
   ],
   "source": [
    "print(f\"Congratulations on taking an interest in improving your results! Based on your current portfolio, your Sharpe Ratio is {portfolio_sharpe_ratio:.2f}.  The Sharpe Ratio is the best way to measure your risk-adjusted return.  The higher the Sharpe Ratio, the higher the returns and the sooner you can retire!\")\n"
   ]
  },
  {
   "cell_type": "code",
   "execution_count": 11,
   "metadata": {},
   "outputs": [
    {
     "name": "stdout",
     "output_type": "stream",
     "text": [
      "Based on a theoretical analysis of your portfolio, the most optimal Sharpe Ratio is 0.72. Keep in mind, it may not be possible to obtain this Sharpe Ratio based on the random nature of the market, but there are proven ways to help improve the portfolio's Sharpe Ratio.\n"
     ]
    },
    {
     "name": "stdin",
     "output_type": "stream",
     "text": [
      "\n",
      "Would you like to try to improve your portfolio? (Yes or No) Yes\n"
     ]
    }
   ],
   "source": [
    "print(f\"Based on a theoretical analysis of your portfolio, the most optimal Sharpe Ratio is {best_sharpe_ratio:.2f}. Keep in mind, it may not be possible to obtain this Sharpe Ratio based on the random nature of the market, but there are proven ways to help improve the portfolio's Sharpe Ratio.\")\n",
    "ui_improve = input (\"\\nWould you like to try to improve your portfolio? (Yes or No)\")\n"
   ]
  },
  {
   "cell_type": "code",
   "execution_count": 12,
   "metadata": {},
   "outputs": [],
   "source": [
    "# Define empty lists for user inputs\n",
    "add_list = []\n",
    "remove_list = []"
   ]
  },
  {
   "cell_type": "code",
   "execution_count": 22,
   "metadata": {},
   "outputs": [
    {
     "name": "stdout",
     "output_type": "stream",
     "text": [
      "Great! Let's get started! I will ask you a series of questions to help modify your portfolio to see if we can improve your performance.\n",
      "\n",
      "There's a few things to keep in mind.\n",
      "\t* Rule 1\n"
     ]
    },
    {
     "name": "stdin",
     "output_type": "stream",
     "text": [
      "\n",
      "Are you satisfied with you current mix of stocks or would you like to add or remove stocks? (keep, add, remove) remove\n",
      "\n",
      "How many stocks would you like to remove from your portfolio? 1\n",
      "\n",
      "What is the ticker for Stock 1 that you want to remove? aapl\n"
     ]
    },
    {
     "name": "stdout",
     "output_type": "stream",
     "text": [
      "AAPL will be removed from your portfolio.\n"
     ]
    }
   ],
   "source": [
    "# Enter if user wants to improve portfolio\n",
    "if (ui_improve.lower() == \"yes\" or ui_improve.lower() == \"y\"):\n",
    "    print(\"Great! Let's get started! I will ask you a series of questions to help modify your portfolio to see if we can improve your performance.\")\n",
    "    print(\"\\nThere's a few things to keep in mind.\")\n",
    "    print(\"\\t* Rule 1\")\n",
    "\n",
    "    # Ask if user wants to keep/add/remove stocks\n",
    "    ui_stock_change = input (\"\\nAre you satisfied with you current mix of stocks or would you like to add or remove stocks? (keep, add, remove)\")\n",
    " \n",
    "\n",
    "    # Enter if user wants to add stocks\n",
    "    if (ui_stock_change.lower() == \"add\"):\n",
    "        ui_stock_add_num = input (\"\\nHow many stocks would you like to add to your portfolio?\")\n",
    "        print(f\"Great! We'll add the {ui_stock_add_num} stocks one at a time.\")\n",
    "        \n",
    "        # Loop to gather ticker, investment $, and purchase date for each ticker\n",
    "        for i in range(int(ui_stock_add_num)):\n",
    "            ui_stock_add_tckr = input (f\"\\nWhat is the ticker for Stock {i+1} that you want to add?\")\n",
    "            stock_add_tckr = ui_stock_add_tckr.upper()\n",
    "          \n",
    "            ui_stock_add_date = input (f\"\\nWhat day do you want to buy {stock_add_tckr}? (MM/DD/YYYY)\")\n",
    "            stock_add_date = datetime.strptime(ui_stock_add_date, '%m/%d/%Y').date()\n",
    "\n",
    "            #Grab closing price data\n",
    "            stock_add_closing_df = get_closing_price(stock_add_tckr)\n",
    "            stock_add_closing_price = stock_add_closing_df.loc[stock_add_date][\"Close\"]            \n",
    "            \n",
    "            ui_stock_add_cost = input (f\"\\nFor the analysis, we'll assume only the inital purchase as the full investment. How much would you like to invest in {stock_add_tckr}? $\")\n",
    "            stock_add_cost = ui_stock_add_cost.replace(',','')\n",
    "            \n",
    "            #Calculate number of shares\n",
    "            stock_add_num_shares = round(int(stock_add_cost) / int(stock_add_closing_price), 0)\n",
    "            \n",
    "            add_list.append([stock_add_date, stock_add_tckr, \"B\", stock_add_closing_price, stock_add_num_shares, stock_add_cost])\n",
    " \n",
    "\n",
    "    # Enter if user wants to remove stocks\n",
    "    elif (ui_stock_change.lower() == \"remove\"):\n",
    "        ui_stock_remove_num = input (\"\\nHow many stocks would you like to remove from your portfolio?\")\n",
    "        \n",
    "        # Loop to gather all tickers to remove from portfolio\n",
    "        for i in range(int(ui_stock_remove_num)):\n",
    "            ui_stock_remove_tckr = input (f\"\\nWhat is the ticker for Stock {i+1} that you want to remove?\")\n",
    "            stock_remove_tckr = ui_stock_remove_tckr.upper()\n",
    "            print(f\"{stock_remove_tckr} will be removed from your portfolio.\")\n",
    "            remove_list.append(stock_remove_tckr)\n",
    "   \n",
    "\n",
    "    # Enter if user does not want to add or remove stocks\n",
    "    else:\n",
    "        print(f\"\\nOkay, we won't change your mix of stocks.  Your stocks will remain: \\n{stock_list}\")\n",
    "\n",
    "        \n",
    "# Enter if user does not want to improve portflio.    \n",
    "else:\n",
    "    print(\"If you change your mind, let me know.\")"
   ]
  },
  {
   "cell_type": "code",
   "execution_count": 15,
   "metadata": {},
   "outputs": [
    {
     "data": {
      "text/plain": [
       "[[datetime.date(2018, 2, 27), 'CRON', 'B', 7.62, 14286.0, '100000'],\n",
       " [datetime.date(2020, 1, 6), 'SHOP', 'B', 413.33, 484.0, '200000']]"
      ]
     },
     "execution_count": 15,
     "metadata": {},
     "output_type": "execute_result"
    }
   ],
   "source": [
    "add_list"
   ]
  },
  {
   "cell_type": "code",
   "execution_count": 23,
   "metadata": {},
   "outputs": [
    {
     "data": {
      "text/plain": [
       "['GOOG', 'AAPL']"
      ]
     },
     "execution_count": 23,
     "metadata": {},
     "output_type": "execute_result"
    }
   ],
   "source": [
    "remove_list"
   ]
  },
  {
   "cell_type": "code",
   "execution_count": 32,
   "metadata": {},
   "outputs": [],
   "source": [
    "def create_new_transaction_df (add_list, remove_list, starting_df):\n",
    "    # Remove unwanted tickers from starting_df\n",
    "    for i in range(len(remove_list)):\n",
    "        starting_df.drop(starting_df.loc[starting_df['Ticker']==remove_list[i]].index, inplace=True)\n",
    "    \n",
    "    # Create dataframe of new transactions in add_list\n",
    "    # Store column names from starting df in list\n",
    "    df = starting_df.reset_index()\n",
    "    column_names=list(df.columns)\n",
    "    \n",
    "    # Convert add_list to a df\n",
    "    user_inputs_df = pd.DataFrame(add_list, columns=column_names)\n",
    "    \n",
    "    # Convert Date to datetime and set as index\n",
    "    user_inputs_df['Date']=pd.to_datetime(user_inputs_df['Date'])\n",
    "    user_inputs_df.set_index(['Date'], inplace=True)\n",
    "    \n",
    "    # Concatenate new dataframe with starting dataframe \n",
    "    new_trans_df = pd.concat([starting_df, user_inputs_df])\n",
    "    \n",
    "    return new_trans_df"
   ]
  },
  {
   "cell_type": "code",
   "execution_count": 33,
   "metadata": {},
   "outputs": [
    {
     "data": {
      "text/html": [
       "<div>\n",
       "<style scoped>\n",
       "    .dataframe tbody tr th:only-of-type {\n",
       "        vertical-align: middle;\n",
       "    }\n",
       "\n",
       "    .dataframe tbody tr th {\n",
       "        vertical-align: top;\n",
       "    }\n",
       "\n",
       "    .dataframe thead th {\n",
       "        text-align: right;\n",
       "    }\n",
       "</style>\n",
       "<table border=\"1\" class=\"dataframe\">\n",
       "  <thead>\n",
       "    <tr style=\"text-align: right;\">\n",
       "      <th></th>\n",
       "      <th>Ticker</th>\n",
       "      <th>Transaction</th>\n",
       "      <th>Transaction Price</th>\n",
       "      <th>Number of shares</th>\n",
       "      <th>Transaction Cost</th>\n",
       "    </tr>\n",
       "    <tr>\n",
       "      <th>Date</th>\n",
       "      <th></th>\n",
       "      <th></th>\n",
       "      <th></th>\n",
       "      <th></th>\n",
       "      <th></th>\n",
       "    </tr>\n",
       "  </thead>\n",
       "  <tbody>\n",
       "    <tr>\n",
       "      <th>2013-09-23</th>\n",
       "      <td>TSLA</td>\n",
       "      <td>B</td>\n",
       "      <td>189.9</td>\n",
       "      <td>100</td>\n",
       "      <td>18990</td>\n",
       "    </tr>\n",
       "    <tr>\n",
       "      <th>2013-11-18</th>\n",
       "      <td>TSLA</td>\n",
       "      <td>S</td>\n",
       "      <td>122.38</td>\n",
       "      <td>75</td>\n",
       "      <td>9178.5</td>\n",
       "    </tr>\n",
       "    <tr>\n",
       "      <th>2016-05-09</th>\n",
       "      <td>TSLA</td>\n",
       "      <td>B</td>\n",
       "      <td>208</td>\n",
       "      <td>30</td>\n",
       "      <td>6240</td>\n",
       "    </tr>\n",
       "    <tr>\n",
       "      <th>2018-02-27</th>\n",
       "      <td>CRON</td>\n",
       "      <td>B</td>\n",
       "      <td>7.62</td>\n",
       "      <td>14286</td>\n",
       "      <td>100000</td>\n",
       "    </tr>\n",
       "    <tr>\n",
       "      <th>2020-01-06</th>\n",
       "      <td>SHOP</td>\n",
       "      <td>B</td>\n",
       "      <td>413.33</td>\n",
       "      <td>484</td>\n",
       "      <td>200000</td>\n",
       "    </tr>\n",
       "  </tbody>\n",
       "</table>\n",
       "</div>"
      ],
      "text/plain": [
       "           Ticker Transaction Transaction Price Number of shares  \\\n",
       "Date                                                               \n",
       "2013-09-23   TSLA           B             189.9              100   \n",
       "2013-11-18   TSLA           S            122.38               75   \n",
       "2016-05-09   TSLA           B               208               30   \n",
       "2018-02-27   CRON           B              7.62            14286   \n",
       "2020-01-06   SHOP           B            413.33              484   \n",
       "\n",
       "           Transaction Cost  \n",
       "Date                         \n",
       "2013-09-23            18990  \n",
       "2013-11-18           9178.5  \n",
       "2016-05-09             6240  \n",
       "2018-02-27           100000  \n",
       "2020-01-06           200000  "
      ]
     },
     "execution_count": 33,
     "metadata": {},
     "output_type": "execute_result"
    }
   ],
   "source": [
    "test = create_new_transaction_df(add_list, remove_list, portfolio_df)\n",
    "test"
   ]
  },
  {
   "cell_type": "code",
   "execution_count": null,
   "metadata": {},
   "outputs": [],
   "source": []
  },
  {
   "cell_type": "code",
   "execution_count": null,
   "metadata": {},
   "outputs": [],
   "source": []
  },
  {
   "cell_type": "code",
   "execution_count": null,
   "metadata": {},
   "outputs": [],
   "source": []
  },
  {
   "cell_type": "markdown",
   "metadata": {},
   "source": [
    "# Portfolio Projections Based on mean and standard deviations"
   ]
  },
  {
   "cell_type": "markdown",
   "metadata": {},
   "source": [
    "## Inputs needed for portfolio projections"
   ]
  },
  {
   "cell_type": "code",
   "execution_count": 112,
   "metadata": {},
   "outputs": [],
   "source": [
    "import random"
   ]
  },
  {
   "cell_type": "code",
   "execution_count": null,
   "metadata": {},
   "outputs": [],
   "source": []
  },
  {
   "cell_type": "code",
   "execution_count": null,
   "metadata": {},
   "outputs": [],
   "source": []
  },
  {
   "cell_type": "code",
   "execution_count": 149,
   "metadata": {},
   "outputs": [],
   "source": [
    "balance = 10000\n",
    "contribution = 1000\n",
    "years = 20\n",
    "mu = 0.0614\n",
    "sigma = 0.2317\n",
    "monte_runs = 1000"
   ]
  },
  {
   "cell_type": "code",
   "execution_count": 121,
   "metadata": {},
   "outputs": [],
   "source": [
    "def portfolio_projection (starting_balance, yearly_contribution, num_of_years, mean, std_dev):\n",
    "    balance_projection = starting_balance\n",
    "    projection_list = []\n",
    "    for i in range(num_of_years):\n",
    "        yrly_rtn = random.gauss(mu, sigma)\n",
    "        balance_projection = (balance_projection + yearly_contribution)*(1 + yrly_rtn)\n",
    "        projection_list.append(balance_projection)\n",
    "    return projection_list"
   ]
  },
  {
   "cell_type": "code",
   "execution_count": 122,
   "metadata": {},
   "outputs": [],
   "source": [
    "def monte_portfolio_projection (starting_balance, yearly_contribution, num_of_years, mean, std_dev, num_of_iterations):\n",
    "    projection_list = []\n",
    "    for i in range(num_of_iterations):\n",
    "        iteration = portfolio_projection(starting_balance, yearly_contribution, num_of_years, mean, std_dev)\n",
    "        projection_list.append(iteration)\n",
    "    return projection_list"
   ]
  },
  {
   "cell_type": "code",
   "execution_count": 150,
   "metadata": {},
   "outputs": [],
   "source": [
    "result = monte_portfolio_projection(balance, contribution, years, mu, sigma, monte_runs)"
   ]
  },
  {
   "cell_type": "code",
   "execution_count": 169,
   "metadata": {},
   "outputs": [
    {
     "data": {
      "image/png": "[encoded data removed]",
      "text/plain": [
       "<Figure size 720x576 with 1 Axes>"
      ]
     },
     "metadata": {
      "needs_background": "light"
     },
     "output_type": "display_data"
    }
   ],
   "source": [
    "import matplotlib.pyplot as plt\n",
    "import matplotlib.ticker as mtick\n",
    "\n",
    "fig, ax = plt.subplots(figsize=(10,8))\n",
    "plt.xlabel(\"Years\")\n",
    "plt.ylabel(\"Projected Returns\")\n",
    "plt.title(f\"Monte Carlo Showing Projected Porfolio Balance in {years} Years\")\n",
    "\n",
    "textstr = '\\n'.join((\n",
    "    r'$\\mathrm{balance}=%.0f$' % (balance, ),\n",
    "    r'$\\mathrm{contribution}=%.0f$' % (contribution, ),\n",
    "    r'$\\mu=%.2f$' % (mu, ),\n",
    "    r'$\\sigma=%.2f$' % (sigma, )))\n",
    "\n",
    "for i in range(monte_runs):\n",
    "    plt.plot([i+1 for i in range(len(result[0]))],[result[i][j] for j in range(len(result[0]))])\n",
    "\n",
    "# these are matplotlib.patch.Patch properties\n",
    "props = dict(boxstyle='round', facecolor='wheat', alpha=0.5)\n",
    "# place a text box in upper left in axes coords\n",
    "ax.text(0.05, 0.95, textstr, transform=ax.transAxes, fontsize=14,\n",
    "        verticalalignment='top', bbox=props)\n",
    "    \n",
    "fmt = '${x:,.0f}'\n",
    "tick = mtick.StrMethodFormatter(fmt)\n",
    "ax.yaxis.set_major_formatter(tick)\n",
    "plt.show()"
   ]
  },
  {
   "cell_type": "code",
   "execution_count": null,
   "metadata": {},
   "outputs": [],
   "source": []
  }
 ],
 "metadata": {
  "kernelspec": {
   "display_name": "Python 3",
   "language": "python",
   "name": "python3"
  },
  "language_info": {
   "codemirror_mode": {
    "name": "ipython",
    "version": 3
   },
   "file_extension": ".py",
   "mimetype": "text/x-python",
   "name": "python",
   "nbconvert_exporter": "python",
   "pygments_lexer": "ipython3",
   "version": "3.7.6"
  }
 },
 "nbformat": 4,
 "nbformat_minor": 4
}
