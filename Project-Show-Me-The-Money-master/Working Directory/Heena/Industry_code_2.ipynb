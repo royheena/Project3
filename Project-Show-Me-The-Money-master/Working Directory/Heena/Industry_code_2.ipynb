{
 "cells": [
  {
   "cell_type": "markdown",
   "metadata": {},
   "source": [
    "# Create Visualization for Portfolio Sector/Industry Weights"
   ]
  },
  {
   "cell_type": "markdown",
   "metadata": {},
   "source": [
    "Function:  Industry Weights\n",
    "\n",
    "* Input (1 portfolio)\n",
    "\n",
    "    * Dataframe\n",
    "        * Columns\n",
    "        * Ticker\n",
    "        * shares per ticker\n",
    "        * Industry\n",
    "    * Goal: Specific Dates - input from dashboard\n",
    "\n",
    "        \n",
    "* Output\n",
    "\n",
    "    * Industry weight for portfolio\n",
    "    * Sector weight for portfolio(?)\n",
    " "
   ]
  },
  {
   "cell_type": "code",
   "execution_count": null,
   "metadata": {},
   "outputs": [],
   "source": []
  },
  {
   "cell_type": "code",
   "execution_count": 1,
   "metadata": {},
   "outputs": [],
   "source": [
    "# Import libraries\n",
    "\n",
    "import pandas as pd\n",
    "import numpy as np\n",
    "import datetime as dt\n",
    "from datetime import datetime\n",
    "from datetime import date\n",
    "from datetime import timedelta\n",
    "\n",
    "from pathlib import Path\n",
    "import requests\n",
    "import json\n",
    "import os\n",
    "from dotenv import load_dotenv\n",
    "\n",
    "%matplotlib inline\n"
   ]
  },
  {
   "cell_type": "code",
   "execution_count": 2,
   "metadata": {},
   "outputs": [],
   "source": [
    "# import csv\n",
    "# from pathlib import Path\n",
    "# import pandas as pd\n",
    "# from pandas import DataFrame\n",
    "# import os\n",
    "# from dotenv import load_dotenv\n",
    "# from datetime import datetime\n",
    "# from datetime import date\n",
    "# from datetime import timedelta\n",
    "\n",
    "\n",
    "# import requests\n",
    "# import json"
   ]
  },
  {
   "cell_type": "code",
   "execution_count": 3,
   "metadata": {},
   "outputs": [],
   "source": [
    "# Set the path for the csv files\n",
    "\n",
    "portfolio_csv = Path(\"TestPortfolio.csv\")\n",
    "stock_csv = Path(\"stock_dict.csv\")\n",
    "\n",
    "# Reading csv files\n",
    "\n",
    "portfolio_df = pd.read_csv(portfolio_csv, index_col=\"Date\", parse_dates=True, infer_datetime_format=True)\n",
    "stock_df = pd.read_csv(stock_csv, index_col=\"Unnamed: 0\", parse_dates=True,infer_datetime_format=True )\n"
   ]
  },
  {
   "cell_type": "code",
   "execution_count": 4,
   "metadata": {},
   "outputs": [
    {
     "data": {
      "text/html": [
       "<div>\n",
       "<style scoped>\n",
       "    .dataframe tbody tr th:only-of-type {\n",
       "        vertical-align: middle;\n",
       "    }\n",
       "\n",
       "    .dataframe tbody tr th {\n",
       "        vertical-align: top;\n",
       "    }\n",
       "\n",
       "    .dataframe thead th {\n",
       "        text-align: right;\n",
       "    }\n",
       "</style>\n",
       "<table border=\"1\" class=\"dataframe\">\n",
       "  <thead>\n",
       "    <tr style=\"text-align: right;\">\n",
       "      <th></th>\n",
       "      <th>AAPL</th>\n",
       "      <th>GOOG</th>\n",
       "      <th>TSLA</th>\n",
       "    </tr>\n",
       "  </thead>\n",
       "  <tbody>\n",
       "    <tr>\n",
       "      <th>PE Ratio</th>\n",
       "      <td>20.81351450883162</td>\n",
       "      <td>14.695620221879276</td>\n",
       "      <td>-131.58163573085847</td>\n",
       "    </tr>\n",
       "    <tr>\n",
       "      <th>Profit Margin</th>\n",
       "      <td>0.21238094505984456</td>\n",
       "      <td>0.2121811228430034</td>\n",
       "      <td>-0.03507201562372854</td>\n",
       "    </tr>\n",
       "    <tr>\n",
       "      <th>Cash</th>\n",
       "      <td>48844000000</td>\n",
       "      <td>18498000000</td>\n",
       "      <td>6268000000</td>\n",
       "    </tr>\n",
       "    <tr>\n",
       "      <th>Beta</th>\n",
       "      <td>1.228499</td>\n",
       "      <td>1.022765</td>\n",
       "      <td>0.580101</td>\n",
       "    </tr>\n",
       "    <tr>\n",
       "      <th>Last Dividend</th>\n",
       "      <td>3.08</td>\n",
       "      <td>0.0</td>\n",
       "      <td>0.0</td>\n",
       "    </tr>\n",
       "    <tr>\n",
       "      <th>Industry</th>\n",
       "      <td>Consumer Electronics</td>\n",
       "      <td>Internet Content &amp; Information</td>\n",
       "      <td>Auto Manufacturers</td>\n",
       "    </tr>\n",
       "    <tr>\n",
       "      <th>Sector</th>\n",
       "      <td>Technology</td>\n",
       "      <td>Communication Services</td>\n",
       "      <td>Consumer Cyclical</td>\n",
       "    </tr>\n",
       "    <tr>\n",
       "      <th>Daily Closing Price</th>\n",
       "      <td>[{'Date': '2020-06-12', 'Price': 338.8}, {'Dat...</td>\n",
       "      <td>[{'Date': '2020-06-12', 'Price': 1413.18}, {'D...</td>\n",
       "      <td>[{'Date': '2020-06-12', 'Price': 935.28}, {'Da...</td>\n",
       "    </tr>\n",
       "  </tbody>\n",
       "</table>\n",
       "</div>"
      ],
      "text/plain": [
       "                                                                  AAPL  \\\n",
       "PE Ratio                                             20.81351450883162   \n",
       "Profit Margin                                      0.21238094505984456   \n",
       "Cash                                                       48844000000   \n",
       "Beta                                                          1.228499   \n",
       "Last Dividend                                                     3.08   \n",
       "Industry                                          Consumer Electronics   \n",
       "Sector                                                      Technology   \n",
       "Daily Closing Price  [{'Date': '2020-06-12', 'Price': 338.8}, {'Dat...   \n",
       "\n",
       "                                                                  GOOG  \\\n",
       "PE Ratio                                            14.695620221879276   \n",
       "Profit Margin                                       0.2121811228430034   \n",
       "Cash                                                       18498000000   \n",
       "Beta                                                          1.022765   \n",
       "Last Dividend                                                      0.0   \n",
       "Industry                                Internet Content & Information   \n",
       "Sector                                          Communication Services   \n",
       "Daily Closing Price  [{'Date': '2020-06-12', 'Price': 1413.18}, {'D...   \n",
       "\n",
       "                                                                  TSLA  \n",
       "PE Ratio                                           -131.58163573085847  \n",
       "Profit Margin                                     -0.03507201562372854  \n",
       "Cash                                                        6268000000  \n",
       "Beta                                                          0.580101  \n",
       "Last Dividend                                                      0.0  \n",
       "Industry                                            Auto Manufacturers  \n",
       "Sector                                               Consumer Cyclical  \n",
       "Daily Closing Price  [{'Date': '2020-06-12', 'Price': 935.28}, {'Da...  "
      ]
     },
     "execution_count": 4,
     "metadata": {},
     "output_type": "execute_result"
    }
   ],
   "source": [
    "stock_df"
   ]
  },
  {
   "cell_type": "code",
   "execution_count": 5,
   "metadata": {},
   "outputs": [
    {
     "data": {
      "text/html": [
       "<div>\n",
       "<style scoped>\n",
       "    .dataframe tbody tr th:only-of-type {\n",
       "        vertical-align: middle;\n",
       "    }\n",
       "\n",
       "    .dataframe tbody tr th {\n",
       "        vertical-align: top;\n",
       "    }\n",
       "\n",
       "    .dataframe thead th {\n",
       "        text-align: right;\n",
       "    }\n",
       "</style>\n",
       "<table border=\"1\" class=\"dataframe\">\n",
       "  <thead>\n",
       "    <tr style=\"text-align: right;\">\n",
       "      <th></th>\n",
       "      <th>Ticker</th>\n",
       "      <th>Industry</th>\n",
       "      <th>Sector</th>\n",
       "    </tr>\n",
       "  </thead>\n",
       "  <tbody>\n",
       "    <tr>\n",
       "      <th>0</th>\n",
       "      <td>AAPL</td>\n",
       "      <td>Consumer Electronics</td>\n",
       "      <td>Technology</td>\n",
       "    </tr>\n",
       "    <tr>\n",
       "      <th>1</th>\n",
       "      <td>GOOG</td>\n",
       "      <td>Internet Content &amp; Information</td>\n",
       "      <td>Communication Services</td>\n",
       "    </tr>\n",
       "    <tr>\n",
       "      <th>2</th>\n",
       "      <td>TSLA</td>\n",
       "      <td>Auto Manufacturers</td>\n",
       "      <td>Consumer Cyclical</td>\n",
       "    </tr>\n",
       "  </tbody>\n",
       "</table>\n",
       "</div>"
      ],
      "text/plain": [
       "  Ticker                        Industry                  Sector\n",
       "0   AAPL            Consumer Electronics              Technology\n",
       "1   GOOG  Internet Content & Information  Communication Services\n",
       "2   TSLA              Auto Manufacturers       Consumer Cyclical"
      ]
     },
     "execution_count": 5,
     "metadata": {},
     "output_type": "execute_result"
    }
   ],
   "source": [
    "# Industry / Sector Info provided for stocks in portfolio\n",
    "\n",
    "sector_df=stock_df.T[[\"Industry\", \"Sector\"]]\n",
    "sector_df.reset_index(inplace=True)\n",
    "sector_df.rename(columns={\"index\":\"Ticker\"}, inplace=True)\n",
    "sector_df"
   ]
  },
  {
   "cell_type": "code",
   "execution_count": 6,
   "metadata": {},
   "outputs": [
    {
     "data": {
      "text/html": [
       "<div>\n",
       "<style scoped>\n",
       "    .dataframe tbody tr th:only-of-type {\n",
       "        vertical-align: middle;\n",
       "    }\n",
       "\n",
       "    .dataframe tbody tr th {\n",
       "        vertical-align: top;\n",
       "    }\n",
       "\n",
       "    .dataframe thead th {\n",
       "        text-align: right;\n",
       "    }\n",
       "</style>\n",
       "<table border=\"1\" class=\"dataframe\">\n",
       "  <thead>\n",
       "    <tr style=\"text-align: right;\">\n",
       "      <th></th>\n",
       "      <th>Ticker</th>\n",
       "      <th>Transaction</th>\n",
       "      <th>Transaction Price</th>\n",
       "      <th>Number of shares</th>\n",
       "    </tr>\n",
       "    <tr>\n",
       "      <th>Date</th>\n",
       "      <th></th>\n",
       "      <th></th>\n",
       "      <th></th>\n",
       "      <th></th>\n",
       "    </tr>\n",
       "  </thead>\n",
       "  <tbody>\n",
       "    <tr>\n",
       "      <th>2012-03-05</th>\n",
       "      <td>AAPL</td>\n",
       "      <td>B</td>\n",
       "      <td>77.80</td>\n",
       "      <td>100</td>\n",
       "    </tr>\n",
       "    <tr>\n",
       "      <th>2013-04-01</th>\n",
       "      <td>AAPL</td>\n",
       "      <td>B</td>\n",
       "      <td>60.57</td>\n",
       "      <td>100</td>\n",
       "    </tr>\n",
       "    <tr>\n",
       "      <th>2013-09-23</th>\n",
       "      <td>TSLA</td>\n",
       "      <td>B</td>\n",
       "      <td>189.90</td>\n",
       "      <td>100</td>\n",
       "    </tr>\n",
       "    <tr>\n",
       "      <th>2013-11-18</th>\n",
       "      <td>TSLA</td>\n",
       "      <td>S</td>\n",
       "      <td>122.38</td>\n",
       "      <td>75</td>\n",
       "    </tr>\n",
       "    <tr>\n",
       "      <th>2016-05-09</th>\n",
       "      <td>TSLA</td>\n",
       "      <td>B</td>\n",
       "      <td>208.00</td>\n",
       "      <td>30</td>\n",
       "    </tr>\n",
       "    <tr>\n",
       "      <th>2017-08-07</th>\n",
       "      <td>GOOG</td>\n",
       "      <td>B</td>\n",
       "      <td>915.39</td>\n",
       "      <td>10</td>\n",
       "    </tr>\n",
       "    <tr>\n",
       "      <th>2020-03-16</th>\n",
       "      <td>AAPL</td>\n",
       "      <td>S</td>\n",
       "      <td>240.00</td>\n",
       "      <td>50</td>\n",
       "    </tr>\n",
       "  </tbody>\n",
       "</table>\n",
       "</div>"
      ],
      "text/plain": [
       "           Ticker Transaction  Transaction Price  Number of shares\n",
       "Date                                                              \n",
       "2012-03-05   AAPL           B              77.80               100\n",
       "2013-04-01   AAPL           B              60.57               100\n",
       "2013-09-23   TSLA           B             189.90               100\n",
       "2013-11-18   TSLA           S             122.38                75\n",
       "2016-05-09   TSLA           B             208.00                30\n",
       "2017-08-07   GOOG           B             915.39                10\n",
       "2020-03-16   AAPL           S             240.00                50"
      ]
     },
     "execution_count": 6,
     "metadata": {},
     "output_type": "execute_result"
    }
   ],
   "source": [
    "# Input (Portfolio) provided with number and price of shares purchased and sold\n",
    "\n",
    "portfolio_df"
   ]
  },
  {
   "cell_type": "code",
   "execution_count": 7,
   "metadata": {},
   "outputs": [
    {
     "data": {
      "text/plain": [
       "Ticker                object\n",
       "Transaction           object\n",
       "Transaction Price    float64\n",
       "Number of shares       int64\n",
       "dtype: object"
      ]
     },
     "execution_count": 7,
     "metadata": {},
     "output_type": "execute_result"
    }
   ],
   "source": [
    "# Datacleaning if needed\n",
    "\n",
    "portfolio_df.dtypes"
   ]
  },
  {
   "cell_type": "code",
   "execution_count": 8,
   "metadata": {},
   "outputs": [
    {
     "data": {
      "text/html": [
       "<div>\n",
       "<style scoped>\n",
       "    .dataframe tbody tr th:only-of-type {\n",
       "        vertical-align: middle;\n",
       "    }\n",
       "\n",
       "    .dataframe tbody tr th {\n",
       "        vertical-align: top;\n",
       "    }\n",
       "\n",
       "    .dataframe thead th {\n",
       "        text-align: right;\n",
       "    }\n",
       "</style>\n",
       "<table border=\"1\" class=\"dataframe\">\n",
       "  <thead>\n",
       "    <tr style=\"text-align: right;\">\n",
       "      <th></th>\n",
       "      <th>Ticker</th>\n",
       "      <th>Transaction</th>\n",
       "      <th>Transaction Price</th>\n",
       "      <th>Number of shares</th>\n",
       "      <th>Cost</th>\n",
       "    </tr>\n",
       "    <tr>\n",
       "      <th>Date</th>\n",
       "      <th></th>\n",
       "      <th></th>\n",
       "      <th></th>\n",
       "      <th></th>\n",
       "      <th></th>\n",
       "    </tr>\n",
       "  </thead>\n",
       "  <tbody>\n",
       "    <tr>\n",
       "      <th>2012-03-05</th>\n",
       "      <td>AAPL</td>\n",
       "      <td>B</td>\n",
       "      <td>77.80</td>\n",
       "      <td>100</td>\n",
       "      <td>7780.0</td>\n",
       "    </tr>\n",
       "    <tr>\n",
       "      <th>2013-04-01</th>\n",
       "      <td>AAPL</td>\n",
       "      <td>B</td>\n",
       "      <td>60.57</td>\n",
       "      <td>100</td>\n",
       "      <td>6057.0</td>\n",
       "    </tr>\n",
       "    <tr>\n",
       "      <th>2013-09-23</th>\n",
       "      <td>TSLA</td>\n",
       "      <td>B</td>\n",
       "      <td>189.90</td>\n",
       "      <td>100</td>\n",
       "      <td>18990.0</td>\n",
       "    </tr>\n",
       "    <tr>\n",
       "      <th>2013-11-18</th>\n",
       "      <td>TSLA</td>\n",
       "      <td>S</td>\n",
       "      <td>122.38</td>\n",
       "      <td>75</td>\n",
       "      <td>9178.5</td>\n",
       "    </tr>\n",
       "    <tr>\n",
       "      <th>2016-05-09</th>\n",
       "      <td>TSLA</td>\n",
       "      <td>B</td>\n",
       "      <td>208.00</td>\n",
       "      <td>30</td>\n",
       "      <td>6240.0</td>\n",
       "    </tr>\n",
       "    <tr>\n",
       "      <th>2017-08-07</th>\n",
       "      <td>GOOG</td>\n",
       "      <td>B</td>\n",
       "      <td>915.39</td>\n",
       "      <td>10</td>\n",
       "      <td>9153.9</td>\n",
       "    </tr>\n",
       "    <tr>\n",
       "      <th>2020-03-16</th>\n",
       "      <td>AAPL</td>\n",
       "      <td>S</td>\n",
       "      <td>240.00</td>\n",
       "      <td>50</td>\n",
       "      <td>12000.0</td>\n",
       "    </tr>\n",
       "  </tbody>\n",
       "</table>\n",
       "</div>"
      ],
      "text/plain": [
       "           Ticker Transaction  Transaction Price  Number of shares     Cost\n",
       "Date                                                                       \n",
       "2012-03-05   AAPL           B              77.80               100   7780.0\n",
       "2013-04-01   AAPL           B              60.57               100   6057.0\n",
       "2013-09-23   TSLA           B             189.90               100  18990.0\n",
       "2013-11-18   TSLA           S             122.38                75   9178.5\n",
       "2016-05-09   TSLA           B             208.00                30   6240.0\n",
       "2017-08-07   GOOG           B             915.39                10   9153.9\n",
       "2020-03-16   AAPL           S             240.00                50  12000.0"
      ]
     },
     "execution_count": 8,
     "metadata": {},
     "output_type": "execute_result"
    }
   ],
   "source": [
    "# Create new column \"Cost\" to reflect total $ value of purchased/sold shares\n",
    "\n",
    "portfolio_df[\"Cost\"]=portfolio_df[\"Transaction Price\"]*portfolio_df[\"Number of shares\"]\n",
    "portfolio_df"
   ]
  },
  {
   "cell_type": "code",
   "execution_count": 9,
   "metadata": {},
   "outputs": [
    {
     "data": {
      "text/html": [
       "<div>\n",
       "<style scoped>\n",
       "    .dataframe tbody tr th:only-of-type {\n",
       "        vertical-align: middle;\n",
       "    }\n",
       "\n",
       "    .dataframe tbody tr th {\n",
       "        vertical-align: top;\n",
       "    }\n",
       "\n",
       "    .dataframe thead th {\n",
       "        text-align: right;\n",
       "    }\n",
       "</style>\n",
       "<table border=\"1\" class=\"dataframe\">\n",
       "  <thead>\n",
       "    <tr style=\"text-align: right;\">\n",
       "      <th></th>\n",
       "      <th>Ticker</th>\n",
       "      <th>Transaction</th>\n",
       "      <th>Number of shares</th>\n",
       "      <th>Cost</th>\n",
       "    </tr>\n",
       "  </thead>\n",
       "  <tbody>\n",
       "    <tr>\n",
       "      <th>0</th>\n",
       "      <td>AAPL</td>\n",
       "      <td>B</td>\n",
       "      <td>200</td>\n",
       "      <td>13837.0</td>\n",
       "    </tr>\n",
       "    <tr>\n",
       "      <th>1</th>\n",
       "      <td>AAPL</td>\n",
       "      <td>S</td>\n",
       "      <td>50</td>\n",
       "      <td>12000.0</td>\n",
       "    </tr>\n",
       "    <tr>\n",
       "      <th>2</th>\n",
       "      <td>GOOG</td>\n",
       "      <td>B</td>\n",
       "      <td>10</td>\n",
       "      <td>9153.9</td>\n",
       "    </tr>\n",
       "    <tr>\n",
       "      <th>3</th>\n",
       "      <td>TSLA</td>\n",
       "      <td>B</td>\n",
       "      <td>130</td>\n",
       "      <td>25230.0</td>\n",
       "    </tr>\n",
       "    <tr>\n",
       "      <th>4</th>\n",
       "      <td>TSLA</td>\n",
       "      <td>S</td>\n",
       "      <td>75</td>\n",
       "      <td>9178.5</td>\n",
       "    </tr>\n",
       "  </tbody>\n",
       "</table>\n",
       "</div>"
      ],
      "text/plain": [
       "  Ticker Transaction  Number of shares     Cost\n",
       "0   AAPL           B               200  13837.0\n",
       "1   AAPL           S                50  12000.0\n",
       "2   GOOG           B                10   9153.9\n",
       "3   TSLA           B               130  25230.0\n",
       "4   TSLA           S                75   9178.5"
      ]
     },
     "execution_count": 9,
     "metadata": {},
     "output_type": "execute_result"
    }
   ],
   "source": [
    "# Create new table with total shares and cost of shares purchased and sold\n",
    "\n",
    "basis_df=pd.DataFrame(portfolio_df.groupby([\"Ticker\", \"Transaction\"])[\"Number of shares\"].sum())\n",
    "basis_df[\"Cost\"]=portfolio_df.groupby([\"Ticker\", \"Transaction\"])[\"Cost\"].sum()\n",
    "basis_df = basis_df.reset_index()\n",
    "basis_df"
   ]
  },
  {
   "cell_type": "code",
   "execution_count": 10,
   "metadata": {},
   "outputs": [
    {
     "data": {
      "text/html": [
       "<div>\n",
       "<style scoped>\n",
       "    .dataframe tbody tr th:only-of-type {\n",
       "        vertical-align: middle;\n",
       "    }\n",
       "\n",
       "    .dataframe tbody tr th {\n",
       "        vertical-align: top;\n",
       "    }\n",
       "\n",
       "    .dataframe thead tr th {\n",
       "        text-align: left;\n",
       "    }\n",
       "\n",
       "    .dataframe thead tr:last-of-type th {\n",
       "        text-align: right;\n",
       "    }\n",
       "</style>\n",
       "<table border=\"1\" class=\"dataframe\">\n",
       "  <thead>\n",
       "    <tr>\n",
       "      <th></th>\n",
       "      <th colspan=\"2\" halign=\"left\">Number of shares</th>\n",
       "      <th colspan=\"2\" halign=\"left\">Cost</th>\n",
       "    </tr>\n",
       "    <tr>\n",
       "      <th>Transaction</th>\n",
       "      <th>B</th>\n",
       "      <th>S</th>\n",
       "      <th>B</th>\n",
       "      <th>S</th>\n",
       "    </tr>\n",
       "    <tr>\n",
       "      <th>Ticker</th>\n",
       "      <th></th>\n",
       "      <th></th>\n",
       "      <th></th>\n",
       "      <th></th>\n",
       "    </tr>\n",
       "  </thead>\n",
       "  <tbody>\n",
       "    <tr>\n",
       "      <th>AAPL</th>\n",
       "      <td>200.0</td>\n",
       "      <td>50.0</td>\n",
       "      <td>13837.0</td>\n",
       "      <td>12000.0</td>\n",
       "    </tr>\n",
       "    <tr>\n",
       "      <th>GOOG</th>\n",
       "      <td>10.0</td>\n",
       "      <td>0.0</td>\n",
       "      <td>9153.9</td>\n",
       "      <td>0.0</td>\n",
       "    </tr>\n",
       "    <tr>\n",
       "      <th>TSLA</th>\n",
       "      <td>130.0</td>\n",
       "      <td>75.0</td>\n",
       "      <td>25230.0</td>\n",
       "      <td>9178.5</td>\n",
       "    </tr>\n",
       "  </tbody>\n",
       "</table>\n",
       "</div>"
      ],
      "text/plain": [
       "            Number of shares           Cost         \n",
       "Transaction                B     S        B        S\n",
       "Ticker                                              \n",
       "AAPL                   200.0  50.0  13837.0  12000.0\n",
       "GOOG                    10.0   0.0   9153.9      0.0\n",
       "TSLA                   130.0  75.0  25230.0   9178.5"
      ]
     },
     "execution_count": 10,
     "metadata": {},
     "output_type": "execute_result"
    }
   ],
   "source": [
    "basis_pivot=basis_df.pivot(index=\"Ticker\", columns=\"Transaction\", values=[\"Number of shares\", \"Cost\"])\n",
    "basis_pivot=basis_pivot.fillna(0)\n",
    "basis_pivot"
   ]
  },
  {
   "cell_type": "code",
   "execution_count": 11,
   "metadata": {},
   "outputs": [
    {
     "data": {
      "text/html": [
       "<div>\n",
       "<style scoped>\n",
       "    .dataframe tbody tr th:only-of-type {\n",
       "        vertical-align: middle;\n",
       "    }\n",
       "\n",
       "    .dataframe tbody tr th {\n",
       "        vertical-align: top;\n",
       "    }\n",
       "\n",
       "    .dataframe thead tr th {\n",
       "        text-align: left;\n",
       "    }\n",
       "</style>\n",
       "<table border=\"1\" class=\"dataframe\">\n",
       "  <thead>\n",
       "    <tr>\n",
       "      <th></th>\n",
       "      <th>Ticker</th>\n",
       "      <th colspan=\"2\" halign=\"left\">Number of shares</th>\n",
       "      <th colspan=\"2\" halign=\"left\">Cost</th>\n",
       "      <th>Shares Owned</th>\n",
       "      <th>Contribution</th>\n",
       "    </tr>\n",
       "    <tr>\n",
       "      <th>Transaction</th>\n",
       "      <th></th>\n",
       "      <th>B</th>\n",
       "      <th>S</th>\n",
       "      <th>B</th>\n",
       "      <th>S</th>\n",
       "      <th></th>\n",
       "      <th></th>\n",
       "    </tr>\n",
       "  </thead>\n",
       "  <tbody>\n",
       "    <tr>\n",
       "      <th>0</th>\n",
       "      <td>AAPL</td>\n",
       "      <td>200.0</td>\n",
       "      <td>50.0</td>\n",
       "      <td>13837.0</td>\n",
       "      <td>12000.0</td>\n",
       "      <td>150.0</td>\n",
       "      <td>1837.0</td>\n",
       "    </tr>\n",
       "    <tr>\n",
       "      <th>1</th>\n",
       "      <td>GOOG</td>\n",
       "      <td>10.0</td>\n",
       "      <td>0.0</td>\n",
       "      <td>9153.9</td>\n",
       "      <td>0.0</td>\n",
       "      <td>10.0</td>\n",
       "      <td>9153.9</td>\n",
       "    </tr>\n",
       "    <tr>\n",
       "      <th>2</th>\n",
       "      <td>TSLA</td>\n",
       "      <td>130.0</td>\n",
       "      <td>75.0</td>\n",
       "      <td>25230.0</td>\n",
       "      <td>9178.5</td>\n",
       "      <td>55.0</td>\n",
       "      <td>16051.5</td>\n",
       "    </tr>\n",
       "  </tbody>\n",
       "</table>\n",
       "</div>"
      ],
      "text/plain": [
       "            Ticker Number of shares           Cost          Shares Owned  \\\n",
       "Transaction                       B     S        B        S                \n",
       "0             AAPL            200.0  50.0  13837.0  12000.0        150.0   \n",
       "1             GOOG             10.0   0.0   9153.9      0.0         10.0   \n",
       "2             TSLA            130.0  75.0  25230.0   9178.5         55.0   \n",
       "\n",
       "            Contribution  \n",
       "Transaction               \n",
       "0                 1837.0  \n",
       "1                 9153.9  \n",
       "2                16051.5  "
      ]
     },
     "execution_count": 11,
     "metadata": {},
     "output_type": "execute_result"
    }
   ],
   "source": [
    "basis_pivot[\"Shares Owned\"]=basis_pivot[\"Number of shares\"][\"B\"]-basis_pivot[\"Number of shares\"][\"S\"]\n",
    "basis_pivot[\"Contribution\"]=basis_pivot[\"Cost\"][\"B\"]-basis_pivot[\"Cost\"][\"S\"]\n",
    "basis_pivot.reset_index(inplace=True)\n",
    "\n",
    "basis_pivot"
   ]
  },
  {
   "cell_type": "code",
   "execution_count": 12,
   "metadata": {},
   "outputs": [
    {
     "name": "stderr",
     "output_type": "stream",
     "text": [
      "/opt/anaconda3/lib/python3.7/site-packages/pandas/core/generic.py:3812: PerformanceWarning: dropping on a non-lexsorted multi-index without a level parameter may impact performance.\n",
      "  new_axis = axis.drop(labels, errors=errors)\n"
     ]
    },
    {
     "data": {
      "text/html": [
       "<div>\n",
       "<style scoped>\n",
       "    .dataframe tbody tr th:only-of-type {\n",
       "        vertical-align: middle;\n",
       "    }\n",
       "\n",
       "    .dataframe tbody tr th {\n",
       "        vertical-align: top;\n",
       "    }\n",
       "\n",
       "    .dataframe thead th {\n",
       "        text-align: right;\n",
       "    }\n",
       "</style>\n",
       "<table border=\"1\" class=\"dataframe\">\n",
       "  <thead>\n",
       "    <tr style=\"text-align: right;\">\n",
       "      <th></th>\n",
       "      <th>Ticker</th>\n",
       "      <th>Shares Owned</th>\n",
       "      <th>Contribution</th>\n",
       "    </tr>\n",
       "  </thead>\n",
       "  <tbody>\n",
       "    <tr>\n",
       "      <th>0</th>\n",
       "      <td>AAPL</td>\n",
       "      <td>150.0</td>\n",
       "      <td>1837.0</td>\n",
       "    </tr>\n",
       "    <tr>\n",
       "      <th>1</th>\n",
       "      <td>GOOG</td>\n",
       "      <td>10.0</td>\n",
       "      <td>9153.9</td>\n",
       "    </tr>\n",
       "    <tr>\n",
       "      <th>2</th>\n",
       "      <td>TSLA</td>\n",
       "      <td>55.0</td>\n",
       "      <td>16051.5</td>\n",
       "    </tr>\n",
       "  </tbody>\n",
       "</table>\n",
       "</div>"
      ],
      "text/plain": [
       "  Ticker  Shares Owned  Contribution\n",
       "0   AAPL         150.0        1837.0\n",
       "1   GOOG          10.0        9153.9\n",
       "2   TSLA          55.0       16051.5"
      ]
     },
     "execution_count": 12,
     "metadata": {},
     "output_type": "execute_result"
    }
   ],
   "source": [
    "current_holdings_df=basis_pivot.drop(columns=[\"Number of shares\", \"Cost\"])\n",
    "current_holdings_df=current_holdings_df.droplevel([1], axis=1)\n",
    "# current_holdings_df.set_index(\"Ticker\")\n",
    "current_holdings_df"
   ]
  },
  {
   "cell_type": "code",
   "execution_count": 13,
   "metadata": {},
   "outputs": [
    {
     "data": {
      "text/html": [
       "<div>\n",
       "<style scoped>\n",
       "    .dataframe tbody tr th:only-of-type {\n",
       "        vertical-align: middle;\n",
       "    }\n",
       "\n",
       "    .dataframe tbody tr th {\n",
       "        vertical-align: top;\n",
       "    }\n",
       "\n",
       "    .dataframe thead th {\n",
       "        text-align: right;\n",
       "    }\n",
       "</style>\n",
       "<table border=\"1\" class=\"dataframe\">\n",
       "  <thead>\n",
       "    <tr style=\"text-align: right;\">\n",
       "      <th></th>\n",
       "      <th>AAPL Closing Price</th>\n",
       "      <th>GOOG Closing Price</th>\n",
       "      <th>TSLA Closing Price</th>\n",
       "    </tr>\n",
       "    <tr>\n",
       "      <th>Date</th>\n",
       "      <th></th>\n",
       "      <th></th>\n",
       "      <th></th>\n",
       "    </tr>\n",
       "  </thead>\n",
       "  <tbody>\n",
       "    <tr>\n",
       "      <th>2020-06-12</th>\n",
       "      <td>338.80</td>\n",
       "      <td>1413.18</td>\n",
       "      <td>935.28</td>\n",
       "    </tr>\n",
       "    <tr>\n",
       "      <th>2020-06-11</th>\n",
       "      <td>335.90</td>\n",
       "      <td>1403.84</td>\n",
       "      <td>972.84</td>\n",
       "    </tr>\n",
       "    <tr>\n",
       "      <th>2020-06-10</th>\n",
       "      <td>352.84</td>\n",
       "      <td>1465.85</td>\n",
       "      <td>1025.05</td>\n",
       "    </tr>\n",
       "    <tr>\n",
       "      <th>2020-06-09</th>\n",
       "      <td>343.99</td>\n",
       "      <td>1456.16</td>\n",
       "      <td>940.67</td>\n",
       "    </tr>\n",
       "    <tr>\n",
       "      <th>2020-06-08</th>\n",
       "      <td>333.46</td>\n",
       "      <td>1446.61</td>\n",
       "      <td>949.92</td>\n",
       "    </tr>\n",
       "  </tbody>\n",
       "</table>\n",
       "</div>"
      ],
      "text/plain": [
       "            AAPL Closing Price  GOOG Closing Price  TSLA Closing Price\n",
       "Date                                                                  \n",
       "2020-06-12              338.80             1413.18              935.28\n",
       "2020-06-11              335.90             1403.84              972.84\n",
       "2020-06-10              352.84             1465.85             1025.05\n",
       "2020-06-09              343.99             1456.16              940.67\n",
       "2020-06-08              333.46             1446.61              949.92"
      ]
     },
     "execution_count": 13,
     "metadata": {},
     "output_type": "execute_result"
    }
   ],
   "source": [
    "closing_df=pd.DataFrame()\n",
    "closing_df[\"Date\"]= \"2020-06-12\", \"2020-06-11\", \"2020-06-10\", \"2020-06-09\", \"2020-06-08\"\n",
    "closing_df[\"AAPL Closing Price\"]= 338.80, 335.90, 352.84, 343.99, 333.46\n",
    "closing_df[\"GOOG Closing Price\"]= 1413.18, 1403.84, 1465.85, 1456.16, 1446.61\n",
    "closing_df[\"TSLA Closing Price\"]=935.28, 972.84, 1025.05, 940.67, 949.92\n",
    "\n",
    "closing_df[\"Date\"]= pd.to_datetime(closing_df[\"Date\"], format=\"%Y-%m-%d\")\n",
    "closing_df.set_index(\"Date\", inplace=True)\n",
    "\n",
    "closing_df"
   ]
  },
  {
   "cell_type": "code",
   "execution_count": 14,
   "metadata": {},
   "outputs": [
    {
     "data": {
      "text/html": [
       "<div>\n",
       "<style scoped>\n",
       "    .dataframe tbody tr th:only-of-type {\n",
       "        vertical-align: middle;\n",
       "    }\n",
       "\n",
       "    .dataframe tbody tr th {\n",
       "        vertical-align: top;\n",
       "    }\n",
       "\n",
       "    .dataframe thead th {\n",
       "        text-align: right;\n",
       "    }\n",
       "</style>\n",
       "<table border=\"1\" class=\"dataframe\">\n",
       "  <thead>\n",
       "    <tr style=\"text-align: right;\">\n",
       "      <th></th>\n",
       "      <th>AAPL</th>\n",
       "      <th>GOOG</th>\n",
       "      <th>TSLA</th>\n",
       "    </tr>\n",
       "    <tr>\n",
       "      <th>Date</th>\n",
       "      <th></th>\n",
       "      <th></th>\n",
       "      <th></th>\n",
       "    </tr>\n",
       "  </thead>\n",
       "  <tbody>\n",
       "    <tr>\n",
       "      <th>2020-06-12</th>\n",
       "      <td>338.80</td>\n",
       "      <td>1413.18</td>\n",
       "      <td>935.28</td>\n",
       "    </tr>\n",
       "    <tr>\n",
       "      <th>2020-06-11</th>\n",
       "      <td>335.90</td>\n",
       "      <td>1403.84</td>\n",
       "      <td>972.84</td>\n",
       "    </tr>\n",
       "    <tr>\n",
       "      <th>2020-06-10</th>\n",
       "      <td>352.84</td>\n",
       "      <td>1465.85</td>\n",
       "      <td>1025.05</td>\n",
       "    </tr>\n",
       "    <tr>\n",
       "      <th>2020-06-09</th>\n",
       "      <td>343.99</td>\n",
       "      <td>1456.16</td>\n",
       "      <td>940.67</td>\n",
       "    </tr>\n",
       "    <tr>\n",
       "      <th>2020-06-08</th>\n",
       "      <td>333.46</td>\n",
       "      <td>1446.61</td>\n",
       "      <td>949.92</td>\n",
       "    </tr>\n",
       "  </tbody>\n",
       "</table>\n",
       "</div>"
      ],
      "text/plain": [
       "              AAPL     GOOG     TSLA\n",
       "Date                                \n",
       "2020-06-12  338.80  1413.18   935.28\n",
       "2020-06-11  335.90  1403.84   972.84\n",
       "2020-06-10  352.84  1465.85  1025.05\n",
       "2020-06-09  343.99  1456.16   940.67\n",
       "2020-06-08  333.46  1446.61   949.92"
      ]
     },
     "execution_count": 14,
     "metadata": {},
     "output_type": "execute_result"
    }
   ],
   "source": [
    "closing_df.rename(columns={\"AAPL Closing Price\": \"AAPL\", \"GOOG Closing Price\": \"GOOG\",\"TSLA Closing Price\": \"TSLA\"}, inplace=True)\n",
    "\n",
    "closing_df.sort_index()\n",
    "\n",
    "closing_df"
   ]
  },
  {
   "cell_type": "code",
   "execution_count": 15,
   "metadata": {},
   "outputs": [],
   "source": [
    "# closing_df3=closing_df.reset_index()\n",
    "\n",
    "# closing_df3\n"
   ]
  },
  {
   "cell_type": "code",
   "execution_count": 16,
   "metadata": {},
   "outputs": [
    {
     "data": {
      "text/html": [
       "<div>\n",
       "<style scoped>\n",
       "    .dataframe tbody tr th:only-of-type {\n",
       "        vertical-align: middle;\n",
       "    }\n",
       "\n",
       "    .dataframe tbody tr th {\n",
       "        vertical-align: top;\n",
       "    }\n",
       "\n",
       "    .dataframe thead th {\n",
       "        text-align: right;\n",
       "    }\n",
       "</style>\n",
       "<table border=\"1\" class=\"dataframe\">\n",
       "  <thead>\n",
       "    <tr style=\"text-align: right;\">\n",
       "      <th></th>\n",
       "      <th>index</th>\n",
       "      <th>2020-06-12 00:00:00</th>\n",
       "    </tr>\n",
       "  </thead>\n",
       "  <tbody>\n",
       "    <tr>\n",
       "      <th>0</th>\n",
       "      <td>AAPL</td>\n",
       "      <td>338.80</td>\n",
       "    </tr>\n",
       "    <tr>\n",
       "      <th>1</th>\n",
       "      <td>GOOG</td>\n",
       "      <td>1413.18</td>\n",
       "    </tr>\n",
       "    <tr>\n",
       "      <th>2</th>\n",
       "      <td>TSLA</td>\n",
       "      <td>935.28</td>\n",
       "    </tr>\n",
       "  </tbody>\n",
       "</table>\n",
       "</div>"
      ],
      "text/plain": [
       "  index  2020-06-12 00:00:00\n",
       "0  AAPL               338.80\n",
       "1  GOOG              1413.18\n",
       "2  TSLA               935.28"
      ]
     },
     "execution_count": 16,
     "metadata": {},
     "output_type": "execute_result"
    }
   ],
   "source": [
    "closing_price=pd.DataFrame(closing_df.iloc[0])\n",
    "closing_price.reset_index(inplace=True)\n",
    "# closing_price[\"Current Price\"]=closing_price*1\n",
    "closing_price"
   ]
  },
  {
   "cell_type": "code",
   "execution_count": null,
   "metadata": {},
   "outputs": [],
   "source": []
  },
  {
   "cell_type": "code",
   "execution_count": 17,
   "metadata": {},
   "outputs": [
    {
     "data": {
      "text/plain": [
       "pandas.core.frame.DataFrame"
      ]
     },
     "execution_count": 17,
     "metadata": {},
     "output_type": "execute_result"
    }
   ],
   "source": [
    "dummy=pd.DataFrame()\n",
    "dummy[\"Closing Price\"]=(338.80, 1413.18, 935.28)\n",
    "type(dummy)"
   ]
  },
  {
   "cell_type": "code",
   "execution_count": 18,
   "metadata": {},
   "outputs": [
    {
     "data": {
      "text/html": [
       "<div>\n",
       "<style scoped>\n",
       "    .dataframe tbody tr th:only-of-type {\n",
       "        vertical-align: middle;\n",
       "    }\n",
       "\n",
       "    .dataframe tbody tr th {\n",
       "        vertical-align: top;\n",
       "    }\n",
       "\n",
       "    .dataframe thead th {\n",
       "        text-align: right;\n",
       "    }\n",
       "</style>\n",
       "<table border=\"1\" class=\"dataframe\">\n",
       "  <thead>\n",
       "    <tr style=\"text-align: right;\">\n",
       "      <th></th>\n",
       "      <th>Ticker</th>\n",
       "      <th>Shares Owned</th>\n",
       "      <th>Contribution</th>\n",
       "      <th>Current Value</th>\n",
       "    </tr>\n",
       "  </thead>\n",
       "  <tbody>\n",
       "    <tr>\n",
       "      <th>0</th>\n",
       "      <td>AAPL</td>\n",
       "      <td>150.0</td>\n",
       "      <td>1837.0</td>\n",
       "      <td>50820.0</td>\n",
       "    </tr>\n",
       "    <tr>\n",
       "      <th>1</th>\n",
       "      <td>GOOG</td>\n",
       "      <td>10.0</td>\n",
       "      <td>9153.9</td>\n",
       "      <td>14131.8</td>\n",
       "    </tr>\n",
       "    <tr>\n",
       "      <th>2</th>\n",
       "      <td>TSLA</td>\n",
       "      <td>55.0</td>\n",
       "      <td>16051.5</td>\n",
       "      <td>51440.4</td>\n",
       "    </tr>\n",
       "  </tbody>\n",
       "</table>\n",
       "</div>"
      ],
      "text/plain": [
       "  Ticker  Shares Owned  Contribution  Current Value\n",
       "0   AAPL         150.0        1837.0        50820.0\n",
       "1   GOOG          10.0        9153.9        14131.8\n",
       "2   TSLA          55.0       16051.5        51440.4"
      ]
     },
     "execution_count": 18,
     "metadata": {},
     "output_type": "execute_result"
    }
   ],
   "source": [
    "# current_holdings_df[\"Current Price\"]=pd.DataFrame(closing_df.iloc[0])\n",
    "# current_holdings_df\n",
    "\n",
    "current_holdings_df2 = current_holdings_df.join(dummy)\n",
    "current_holdings_df2[\"Current Value\"]=current_holdings_df2[\"Closing Price\"]*current_holdings_df2[\"Shares Owned\"]\n",
    "current_holdings_df2=current_holdings_df2.drop(columns=\"Closing Price\")\n",
    "\n",
    "current_holdings_df2"
   ]
  },
  {
   "cell_type": "code",
   "execution_count": 19,
   "metadata": {},
   "outputs": [
    {
     "data": {
      "text/html": [
       "<div>\n",
       "<style scoped>\n",
       "    .dataframe tbody tr th:only-of-type {\n",
       "        vertical-align: middle;\n",
       "    }\n",
       "\n",
       "    .dataframe tbody tr th {\n",
       "        vertical-align: top;\n",
       "    }\n",
       "\n",
       "    .dataframe thead th {\n",
       "        text-align: right;\n",
       "    }\n",
       "</style>\n",
       "<table border=\"1\" class=\"dataframe\">\n",
       "  <thead>\n",
       "    <tr style=\"text-align: right;\">\n",
       "      <th></th>\n",
       "      <th>Ticker</th>\n",
       "      <th>Shares Owned</th>\n",
       "      <th>Contribution</th>\n",
       "      <th>Current Value</th>\n",
       "      <th>Industry</th>\n",
       "      <th>Sector</th>\n",
       "    </tr>\n",
       "  </thead>\n",
       "  <tbody>\n",
       "    <tr>\n",
       "      <th>0</th>\n",
       "      <td>AAPL</td>\n",
       "      <td>150.0</td>\n",
       "      <td>1837.0</td>\n",
       "      <td>50820.0</td>\n",
       "      <td>Consumer Electronics</td>\n",
       "      <td>Technology</td>\n",
       "    </tr>\n",
       "    <tr>\n",
       "      <th>1</th>\n",
       "      <td>GOOG</td>\n",
       "      <td>10.0</td>\n",
       "      <td>9153.9</td>\n",
       "      <td>14131.8</td>\n",
       "      <td>Internet Content &amp; Information</td>\n",
       "      <td>Communication Services</td>\n",
       "    </tr>\n",
       "    <tr>\n",
       "      <th>2</th>\n",
       "      <td>TSLA</td>\n",
       "      <td>55.0</td>\n",
       "      <td>16051.5</td>\n",
       "      <td>51440.4</td>\n",
       "      <td>Auto Manufacturers</td>\n",
       "      <td>Consumer Cyclical</td>\n",
       "    </tr>\n",
       "  </tbody>\n",
       "</table>\n",
       "</div>"
      ],
      "text/plain": [
       "  Ticker  Shares Owned  Contribution  Current Value  \\\n",
       "0   AAPL         150.0        1837.0        50820.0   \n",
       "1   GOOG          10.0        9153.9        14131.8   \n",
       "2   TSLA          55.0       16051.5        51440.4   \n",
       "\n",
       "                         Industry                  Sector  \n",
       "0            Consumer Electronics              Technology  \n",
       "1  Internet Content & Information  Communication Services  \n",
       "2              Auto Manufacturers       Consumer Cyclical  "
      ]
     },
     "execution_count": 19,
     "metadata": {},
     "output_type": "execute_result"
    }
   ],
   "source": [
    "# current_industry_holdings=pd.concat((current_holdings_df, sector_df), axis=\"columns\", join=\"inner\")\n",
    "current_industry_holdings = pd.merge(current_holdings_df2, sector_df, on=\"Ticker\")\n",
    "\n",
    "current_industry_holdings"
   ]
  },
  {
   "cell_type": "code",
   "execution_count": 20,
   "metadata": {},
   "outputs": [
    {
     "data": {
      "text/html": [
       "<div>\n",
       "<style scoped>\n",
       "    .dataframe tbody tr th:only-of-type {\n",
       "        vertical-align: middle;\n",
       "    }\n",
       "\n",
       "    .dataframe tbody tr th {\n",
       "        vertical-align: top;\n",
       "    }\n",
       "\n",
       "    .dataframe thead th {\n",
       "        text-align: right;\n",
       "    }\n",
       "</style>\n",
       "<table border=\"1\" class=\"dataframe\">\n",
       "  <thead>\n",
       "    <tr style=\"text-align: right;\">\n",
       "      <th></th>\n",
       "      <th>Ticker</th>\n",
       "      <th>Shares Owned</th>\n",
       "      <th>Contribution</th>\n",
       "      <th>Current Value</th>\n",
       "      <th>Industry</th>\n",
       "      <th>Sector</th>\n",
       "    </tr>\n",
       "  </thead>\n",
       "  <tbody>\n",
       "    <tr>\n",
       "      <th>0</th>\n",
       "      <td>AAPL</td>\n",
       "      <td>150.0</td>\n",
       "      <td>1837.0</td>\n",
       "      <td>50820.0</td>\n",
       "      <td>Consumer Electronics</td>\n",
       "      <td>Technology</td>\n",
       "    </tr>\n",
       "    <tr>\n",
       "      <th>1</th>\n",
       "      <td>GOOG</td>\n",
       "      <td>10.0</td>\n",
       "      <td>9153.9</td>\n",
       "      <td>14131.8</td>\n",
       "      <td>Internet Content &amp; Information</td>\n",
       "      <td>Communication Services</td>\n",
       "    </tr>\n",
       "    <tr>\n",
       "      <th>2</th>\n",
       "      <td>TSLA</td>\n",
       "      <td>55.0</td>\n",
       "      <td>16051.5</td>\n",
       "      <td>51440.4</td>\n",
       "      <td>Auto Manufacturers</td>\n",
       "      <td>Consumer Cyclical</td>\n",
       "    </tr>\n",
       "  </tbody>\n",
       "</table>\n",
       "</div>"
      ],
      "text/plain": [
       "  Ticker  Shares Owned  Contribution  Current Value  \\\n",
       "0   AAPL         150.0        1837.0        50820.0   \n",
       "1   GOOG          10.0        9153.9        14131.8   \n",
       "2   TSLA          55.0       16051.5        51440.4   \n",
       "\n",
       "                         Industry                  Sector  \n",
       "0            Consumer Electronics              Technology  \n",
       "1  Internet Content & Information  Communication Services  \n",
       "2              Auto Manufacturers       Consumer Cyclical  "
      ]
     },
     "execution_count": 20,
     "metadata": {},
     "output_type": "execute_result"
    }
   ],
   "source": [
    "current_industry_holdings"
   ]
  },
  {
   "cell_type": "code",
   "execution_count": null,
   "metadata": {},
   "outputs": [],
   "source": []
  },
  {
   "cell_type": "code",
   "execution_count": 21,
   "metadata": {},
   "outputs": [
    {
     "data": {
      "text/html": [
       "<div>\n",
       "<style scoped>\n",
       "    .dataframe tbody tr th:only-of-type {\n",
       "        vertical-align: middle;\n",
       "    }\n",
       "\n",
       "    .dataframe tbody tr th {\n",
       "        vertical-align: top;\n",
       "    }\n",
       "\n",
       "    .dataframe thead th {\n",
       "        text-align: right;\n",
       "    }\n",
       "</style>\n",
       "<table border=\"1\" class=\"dataframe\">\n",
       "  <thead>\n",
       "    <tr style=\"text-align: right;\">\n",
       "      <th></th>\n",
       "      <th>Shares Owned</th>\n",
       "      <th>Contribution</th>\n",
       "      <th>Current Value</th>\n",
       "      <th>Industry</th>\n",
       "      <th>Sector</th>\n",
       "    </tr>\n",
       "    <tr>\n",
       "      <th>Ticker</th>\n",
       "      <th></th>\n",
       "      <th></th>\n",
       "      <th></th>\n",
       "      <th></th>\n",
       "      <th></th>\n",
       "    </tr>\n",
       "  </thead>\n",
       "  <tbody>\n",
       "    <tr>\n",
       "      <th>AAPL</th>\n",
       "      <td>150.0</td>\n",
       "      <td>1837.0</td>\n",
       "      <td>50820.0</td>\n",
       "      <td>Consumer Electronics</td>\n",
       "      <td>Technology</td>\n",
       "    </tr>\n",
       "    <tr>\n",
       "      <th>GOOG</th>\n",
       "      <td>10.0</td>\n",
       "      <td>9153.9</td>\n",
       "      <td>14131.8</td>\n",
       "      <td>Internet Content &amp; Information</td>\n",
       "      <td>Communication Services</td>\n",
       "    </tr>\n",
       "    <tr>\n",
       "      <th>TSLA</th>\n",
       "      <td>55.0</td>\n",
       "      <td>16051.5</td>\n",
       "      <td>51440.4</td>\n",
       "      <td>Auto Manufacturers</td>\n",
       "      <td>Consumer Cyclical</td>\n",
       "    </tr>\n",
       "  </tbody>\n",
       "</table>\n",
       "</div>"
      ],
      "text/plain": [
       "        Shares Owned  Contribution  Current Value  \\\n",
       "Ticker                                              \n",
       "AAPL           150.0        1837.0        50820.0   \n",
       "GOOG            10.0        9153.9        14131.8   \n",
       "TSLA            55.0       16051.5        51440.4   \n",
       "\n",
       "                              Industry                  Sector  \n",
       "Ticker                                                          \n",
       "AAPL              Consumer Electronics              Technology  \n",
       "GOOG    Internet Content & Information  Communication Services  \n",
       "TSLA                Auto Manufacturers       Consumer Cyclical  "
      ]
     },
     "execution_count": 21,
     "metadata": {},
     "output_type": "execute_result"
    }
   ],
   "source": [
    "current_industry_holdings.set_index(\"Ticker\")"
   ]
  },
  {
   "cell_type": "code",
   "execution_count": 22,
   "metadata": {},
   "outputs": [
    {
     "data": {
      "text/html": [
       "<div>\n",
       "<style scoped>\n",
       "    .dataframe tbody tr th:only-of-type {\n",
       "        vertical-align: middle;\n",
       "    }\n",
       "\n",
       "    .dataframe tbody tr th {\n",
       "        vertical-align: top;\n",
       "    }\n",
       "\n",
       "    .dataframe thead th {\n",
       "        text-align: right;\n",
       "    }\n",
       "</style>\n",
       "<table border=\"1\" class=\"dataframe\">\n",
       "  <thead>\n",
       "    <tr style=\"text-align: right;\">\n",
       "      <th></th>\n",
       "      <th>Shares Owned</th>\n",
       "      <th>Contribution</th>\n",
       "      <th>Current Value</th>\n",
       "    </tr>\n",
       "    <tr>\n",
       "      <th>Industry</th>\n",
       "      <th></th>\n",
       "      <th></th>\n",
       "      <th></th>\n",
       "    </tr>\n",
       "  </thead>\n",
       "  <tbody>\n",
       "    <tr>\n",
       "      <th>Auto Manufacturers</th>\n",
       "      <td>55.0</td>\n",
       "      <td>16051.5</td>\n",
       "      <td>51440.4</td>\n",
       "    </tr>\n",
       "    <tr>\n",
       "      <th>Consumer Electronics</th>\n",
       "      <td>150.0</td>\n",
       "      <td>1837.0</td>\n",
       "      <td>50820.0</td>\n",
       "    </tr>\n",
       "    <tr>\n",
       "      <th>Internet Content &amp; Information</th>\n",
       "      <td>10.0</td>\n",
       "      <td>9153.9</td>\n",
       "      <td>14131.8</td>\n",
       "    </tr>\n",
       "  </tbody>\n",
       "</table>\n",
       "</div>"
      ],
      "text/plain": [
       "                                Shares Owned  Contribution  Current Value\n",
       "Industry                                                                 \n",
       "Auto Manufacturers                      55.0       16051.5        51440.4\n",
       "Consumer Electronics                   150.0        1837.0        50820.0\n",
       "Internet Content & Information          10.0        9153.9        14131.8"
      ]
     },
     "execution_count": 22,
     "metadata": {},
     "output_type": "execute_result"
    }
   ],
   "source": [
    "industry_holdings = current_industry_holdings.groupby(\"Industry\").sum()\n",
    "\n",
    "industry_holdings\n"
   ]
  },
  {
   "cell_type": "code",
   "execution_count": 23,
   "metadata": {},
   "outputs": [
    {
     "data": {
      "image/png": "[encoded data removed]",
      "text/plain": [
       "<Figure size 720x720 with 1 Axes>"
      ]
     },
     "metadata": {},
     "output_type": "display_data"
    },
    {
     "data": {
      "image/png": "[encoded data removed]",
      "text/plain": [
       "<Figure size 720x720 with 1 Axes>"
      ]
     },
     "metadata": {},
     "output_type": "display_data"
    },
    {
     "data": {
      "image/png": "[encoded data removed]",
      "text/plain": [
       "<Figure size 720x720 with 1 Axes>"
      ]
     },
     "metadata": {},
     "output_type": "display_data"
    }
   ],
   "source": [
    "industry_contribution_pie=industry_holdings.plot(kind=\"pie\", y=\"Contribution\", figsize=(10, 10), legend=True, title=\"Contributions by Industry\", autopct='%1.1f%%')\n",
    "industry_shares_pie=industry_holdings.plot(kind=\"pie\", y=\"Shares Owned\", figsize=(10, 10), legend=True, title=\"Shares Owned by Industry\", autopct='%1.1f%%')\n",
    "industry_value_pie=industry_holdings.plot(kind=\"pie\", y=\"Current Value\", figsize=(10, 10), legend=True, title=\"Current Value by Industry\", autopct='%1.1f%%')\n"
   ]
  },
  {
   "cell_type": "code",
   "execution_count": null,
   "metadata": {},
   "outputs": [],
   "source": []
  },
  {
   "cell_type": "code",
   "execution_count": 24,
   "metadata": {},
   "outputs": [
    {
     "data": {
      "text/html": [
       "<div>\n",
       "<style scoped>\n",
       "    .dataframe tbody tr th:only-of-type {\n",
       "        vertical-align: middle;\n",
       "    }\n",
       "\n",
       "    .dataframe tbody tr th {\n",
       "        vertical-align: top;\n",
       "    }\n",
       "\n",
       "    .dataframe thead th {\n",
       "        text-align: right;\n",
       "    }\n",
       "</style>\n",
       "<table border=\"1\" class=\"dataframe\">\n",
       "  <thead>\n",
       "    <tr style=\"text-align: right;\">\n",
       "      <th></th>\n",
       "      <th>Shares Owned</th>\n",
       "      <th>Contribution</th>\n",
       "      <th>Current Value</th>\n",
       "    </tr>\n",
       "    <tr>\n",
       "      <th>Sector</th>\n",
       "      <th></th>\n",
       "      <th></th>\n",
       "      <th></th>\n",
       "    </tr>\n",
       "  </thead>\n",
       "  <tbody>\n",
       "    <tr>\n",
       "      <th>Communication Services</th>\n",
       "      <td>10.0</td>\n",
       "      <td>9153.9</td>\n",
       "      <td>14131.8</td>\n",
       "    </tr>\n",
       "    <tr>\n",
       "      <th>Consumer Cyclical</th>\n",
       "      <td>55.0</td>\n",
       "      <td>16051.5</td>\n",
       "      <td>51440.4</td>\n",
       "    </tr>\n",
       "    <tr>\n",
       "      <th>Technology</th>\n",
       "      <td>150.0</td>\n",
       "      <td>1837.0</td>\n",
       "      <td>50820.0</td>\n",
       "    </tr>\n",
       "  </tbody>\n",
       "</table>\n",
       "</div>"
      ],
      "text/plain": [
       "                        Shares Owned  Contribution  Current Value\n",
       "Sector                                                           \n",
       "Communication Services          10.0        9153.9        14131.8\n",
       "Consumer Cyclical               55.0       16051.5        51440.4\n",
       "Technology                     150.0        1837.0        50820.0"
      ]
     },
     "execution_count": 24,
     "metadata": {},
     "output_type": "execute_result"
    }
   ],
   "source": [
    "sector_holdings= current_industry_holdings.groupby(\"Sector\").sum()\n",
    "\n",
    "sector_holdings"
   ]
  },
  {
   "cell_type": "code",
   "execution_count": 25,
   "metadata": {},
   "outputs": [
    {
     "data": {
      "image/png": "[encoded data removed]",
      "text/plain": [
       "<Figure size 720x720 with 1 Axes>"
      ]
     },
     "metadata": {},
     "output_type": "display_data"
    },
    {
     "data": {
      "image/png": "[encoded data removed]",
      "text/plain": [
       "<Figure size 720x720 with 1 Axes>"
      ]
     },
     "metadata": {},
     "output_type": "display_data"
    },
    {
     "data": {
      "image/png": "[encoded data removed]",
      "text/plain": [
       "<Figure size 720x720 with 1 Axes>"
      ]
     },
     "metadata": {},
     "output_type": "display_data"
    }
   ],
   "source": [
    "\n",
    "sector_contribution_pie=sector_holdings.plot(kind=\"pie\", y=\"Contribution\", figsize=(10, 10), legend=True, title=\"Contributions by Sector\", autopct='%1.1f%%')\n",
    "sector_shares_pie=sector_holdings.plot(kind=\"pie\", y=\"Shares Owned\", figsize=(10, 10), legend=True, title=\"Shares Owned by Sector\", autopct='%1.1f%%')\n",
    "sector_value_pie=sector_holdings.plot(kind=\"pie\", y=\"Current Value\", figsize=(10, 10), legend=True, title=\"Current Value by Sector\", autopct='%1.1f%%')"
   ]
  },
  {
   "cell_type": "code",
   "execution_count": 26,
   "metadata": {},
   "outputs": [
    {
     "data": {
      "image/png": "[encoded data removed]",
      "text/plain": [
       "<Figure size 720x720 with 1 Axes>"
      ]
     },
     "metadata": {},
     "output_type": "display_data"
    },
    {
     "data": {
      "image/png": "[encoded data removed]",
      "text/plain": [
       "<Figure size 720x720 with 1 Axes>"
      ]
     },
     "metadata": {},
     "output_type": "display_data"
    },
    {
     "data": {
      "image/png": "[encoded data removed]",
      "text/plain": [
       "<Figure size 720x720 with 1 Axes>"
      ]
     },
     "metadata": {},
     "output_type": "display_data"
    }
   ],
   "source": [
    "holdings_contribution_pie=current_holdings_df2.plot(kind=\"pie\", labels=current_holdings_df2[\"Ticker\"], y=\"Contribution\", figsize=(10, 10), legend=True, title=\"Contributions by Stock\", autopct='%1.1f%%')\n",
    "holdings_shares_pie=current_holdings_df2.plot(kind=\"pie\", labels=current_holdings_df2[\"Ticker\"], y=\"Shares Owned\", figsize=(10, 10), legend=True, title=\"Shares Owned by Stock\", autopct='%1.1f%%')\n",
    "holdings_value_pie=current_holdings_df2.plot(kind=\"pie\", labels=current_holdings_df2[\"Ticker\"], y=\"Current Value\", figsize=(10, 10), legend=True, title=\"Current Value by Stock\", autopct='%1.1f%%')"
   ]
  },
  {
   "cell_type": "code",
   "execution_count": null,
   "metadata": {},
   "outputs": [],
   "source": []
  },
  {
   "cell_type": "code",
   "execution_count": null,
   "metadata": {},
   "outputs": [],
   "source": []
  },
  {
   "cell_type": "code",
   "execution_count": null,
   "metadata": {},
   "outputs": [],
   "source": []
  }
 ],
 "metadata": {
  "kernelspec": {
   "display_name": "Python 3",
   "language": "python",
   "name": "python3"
  },
  "language_info": {
   "codemirror_mode": {
    "name": "ipython",
    "version": 3
   },
   "file_extension": ".py",
   "mimetype": "text/x-python",
   "name": "python",
   "nbconvert_exporter": "python",
   "pygments_lexer": "ipython3",
   "version": "3.7.6"
  }
 },
 "nbformat": 4,
 "nbformat_minor": 4
}
